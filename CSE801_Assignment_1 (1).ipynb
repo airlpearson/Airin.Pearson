{
  "nbformat": 4,
  "nbformat_minor": 0,
  "metadata": {
    "colab": {
      "provenance": []
    },
    "kernelspec": {
      "name": "python3",
      "display_name": "Python 3"
    },
    "language_info": {
      "name": "python"
    }
  },
  "cells": [
    {
      "cell_type": "markdown",
      "source": [
        "#Airin Pearson\n",
        "\n",
        "\n"
      ],
      "metadata": {
        "id": "hhhGbNjoAXom"
      }
    },
    {
      "cell_type": "markdown",
      "source": [
        "**Number 1 - Hypothesis Testing**\n",
        "\n",
        "$\\mu = 43260$\n",
        "\n",
        "$\\bar{X} = 42000$\n",
        "\n",
        "$σ = 5230$\n",
        "\n",
        "$N = 30$\n",
        "\n",
        "$α = .05$\n",
        "\n",
        "H0= Null hypothesis\n",
        "\n",
        "H1= Alternate Hypothesis\n",
        "\n",
        "**A.**\n",
        "\n",
        "H0 :  $\\mu = 42000$\n",
        "\n",
        "H1 :  $\\mu > 4200$**(claim)**\n",
        "\n",
        "\n",
        "**B.**\n",
        "\n",
        "α = .05\n",
        "\n",
        "right tailed test\n",
        "Z =  1.65 (**critical value**)\n",
        "\n",
        "\n"
      ],
      "metadata": {
        "id": "w6SyOSgMBXMT"
      }
    },
    {
      "cell_type": "markdown",
      "source": [
        "Compute Test Value"
      ],
      "metadata": {
        "id": "qp-dywWlpKj3"
      }
    },
    {
      "cell_type": "code",
      "source": [
        "\n",
        "import numpy as np\n",
        "μ= 43260\n",
        "\n",
        "X= 42000\n",
        "\n",
        "σ= 5230\n",
        "\n",
        "N= 30\n",
        "\n",
        "α=.05\n",
        "\n",
        "mean = μ\n",
        "\n",
        "sd_true = σ\n",
        "\n",
        "sem_true = (sd_true) / np.sqrt(N)\n",
        "\n",
        "print(sem_true)"
      ],
      "metadata": {
        "colab": {
          "base_uri": "https://localhost:8080/"
        },
        "id": "lOfZwcSYjQd9",
        "outputId": "0e85b57c-d01a-4f8a-895d-d71902860789"
      },
      "execution_count": null,
      "outputs": [
        {
          "output_type": "stream",
          "name": "stdout",
          "text": [
            "954.8629919173396\n"
          ]
        }
      ]
    },
    {
      "cell_type": "markdown",
      "source": [
        "Test Value"
      ],
      "metadata": {
        "id": "N9naU40ipAFE"
      }
    },
    {
      "cell_type": "code",
      "source": [
        "z_score = (μ - X) / sem_true\n",
        "print( z_score )"
      ],
      "metadata": {
        "colab": {
          "base_uri": "https://localhost:8080/"
        },
        "id": "sS81k5t5AeU_",
        "outputId": "674bf28e-497e-4fc0-db42-2314121a987e"
      },
      "execution_count": null,
      "outputs": [
        {
          "output_type": "stream",
          "name": "stdout",
          "text": [
            "1.3195610372017386\n"
          ]
        }
      ]
    },
    {
      "cell_type": "code",
      "source": [
        " import scipy.stats as stats\n",
        " #only from lower area due to it being a one tailed test\n",
        "p_value = stats.norm.cdf(-z_score)\n",
        "print(p_value)"
      ],
      "metadata": {
        "colab": {
          "base_uri": "https://localhost:8080/"
        },
        "id": "vdF10upOoPwC",
        "outputId": "a382e763-3ed0-472c-8100-b6ccdd8addc4"
      },
      "execution_count": null,
      "outputs": [
        {
          "output_type": "stream",
          "name": "stdout",
          "text": [
            "0.09349080937629689\n"
          ]
        }
      ]
    },
    {
      "cell_type": "markdown",
      "source": [
        "Summary\n",
        "The Z-Score is less than the critical value. The p-value is greater than the level of significance. failed to reject the null hypothesis."
      ],
      "metadata": {
        "id": "X6cIZVTCwzMS"
      }
    },
    {
      "cell_type": "markdown",
      "source": [
        "**Number 2- Regression**\n",
        "\n",
        "**A.**\n"
      ],
      "metadata": {
        "id": "I5HBRpHMzg-L"
      }
    },
    {
      "cell_type": "code",
      "source": [
        "from sklearn.utils.extmath import squared_norm\n",
        "import numpy as np\n",
        "import matplotlib.pyplot as plt\n",
        "from sklearn.linear_model import LinearRegression\n",
        "x = (np.array([2, 4, 6, 7, 9, 10, 11]))\n",
        "y = (np.array([1, 2, 4, 7, 10, 12, 14]))\n",
        "b1, b0 = np.polyfit(x, y, 1)\n",
        "y_pred = b0 + b1 * x\n",
        "plt.scatter(x, y)\n",
        "plt.plot(x, y_pred, color= 'yellow')\n",
        "plt.xlabel ('Card Suit')\n",
        "plt.ylabel('Card Value')\n",
        "plt.title('Scatter diagram and Fitted Line')\n",
        "plt.show()\n",
        "\n",
        "\n",
        "X = np.array(x).reshape(-1,1)\n",
        "\n",
        "sse =  np.sum((y - y_pred)**2)\n",
        "print('Error sum of squares:', sse)\n",
        "model = LinearRegression()\n",
        "model = LinearRegression().fit(X, y)\n",
        "r_sq = model.score(X, y)\n",
        "print('coefficient of determination:', r_sq)\n",
        "print('intercept:', model.intercept_)\n",
        "print('coefficients:', model.coef_)\n",
        "y_pred = model.predict(X)\n",
        "plt.scatter(X, y, color=\"crimson\")\n",
        "plt.plot(X, y_pred, color=\"pink\", linewidth=5)\n",
        "plt.xlabel(\"X\")\n",
        "plt.ylabel(\"Y\")\n",
        "s=y-y_pred\n",
        "sse=0\n"
      ],
      "metadata": {
        "colab": {
          "base_uri": "https://localhost:8080/",
          "height": 626
        },
        "id": "DKrDCEhLyvuF",
        "outputId": "fa16eaee-f68d-4d57-c955-9ddb55f1dc6a"
      },
      "execution_count": null,
      "outputs": [
        {
          "output_type": "display_data",
          "data": {
            "text/plain": [
              "<Figure size 432x288 with 1 Axes>"
            ],
            "image/png": "[encoded data removed]"
          },
          "metadata": {
            "needs_background": "light"
          }
        },
        {
          "output_type": "stream",
          "name": "stdout",
          "text": [
            "Error sum of squares: 5.841517857142852\n",
            "coefficient of determination: 0.9617844626168224\n",
            "intercept: -3.4665178571428603\n",
            "coefficients: [1.515625]\n"
          ]
        },
        {
          "output_type": "display_data",
          "data": {
            "text/plain": [
              "<Figure size 432x288 with 1 Axes>"
            ],
            "image/png": "[encoded data removed]"
          },
          "metadata": {
            "needs_background": "light"
          }
        }
      ]
    },
    {
      "cell_type": "markdown",
      "source": [
        "**Number 3- ANOVA**\n",
        "\n",
        "H0= Null hypothesis\n",
        "\n",
        "H1= Alternate Hypothesis\n",
        "\n",
        "H0: $\\mu1$ =  $\\mu1$  = $\\mu3$\n",
        "\n",
        "H1: Atleast one $\\mu$ are different than the others"
      ],
      "metadata": {
        "id": "utsQIoh0KT-Y"
      }
    },
    {
      "cell_type": "code",
      "source": [
        "info = {'Top Tenth': [528, 586, 680, 718],\n",
        "        'Second Tenth': [514, 457, 521, 370, 532],\n",
        "        'Second Fifth': [649, 506, 556, 413, 470],\n",
        "        'Third Fifth': [372, 440, 495, 321, 424, 330]}"
      ],
      "metadata": {
        "id": "tYMhv7REcQkD"
      },
      "execution_count": null,
      "outputs": []
    },
    {
      "cell_type": "code",
      "source": [
        "from tabulate import tabulate\n",
        "print(tabulate(info, headers='keys'))"
      ],
      "metadata": {
        "colab": {
          "base_uri": "https://localhost:8080/"
        },
        "id": "Uhkd_UdEe0be",
        "outputId": "bd13eeab-2e49-4b96-da0d-a30a220e034c"
      },
      "execution_count": null,
      "outputs": [
        {
          "output_type": "stream",
          "name": "stdout",
          "text": [
            "  Top Tenth    Second Tenth    Second Fifth    Third Fifth\n",
            "-----------  --------------  --------------  -------------\n",
            "        528             514             649            372\n",
            "        586             457             506            440\n",
            "        680             521             556            495\n",
            "        718             370             413            321\n",
            "                        532             470            424\n",
            "                                                       330\n"
          ]
        }
      ]
    },
    {
      "cell_type": "code",
      "source": [],
      "metadata": {
        "id": "RxnB8icDh0eB"
      },
      "execution_count": null,
      "outputs": []
    }
  ]
}