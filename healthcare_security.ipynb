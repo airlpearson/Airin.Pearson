{
  "nbformat": 4,
  "nbformat_minor": 0,
  "metadata": {
    "colab": {
      "provenance": []
    },
    "kernelspec": {
      "name": "python3",
      "display_name": "Python 3"
    },
    "language_info": {
      "name": "python"
    }
  },
  "cells": [
    {
      "cell_type": "code",
      "execution_count": null,
      "metadata": {
        "id": "GudJBWxLVP6o"
      },
      "outputs": [],
      "source": [
        "#1\n",
        "#Airin Pearson\n",
        "March 17th, 2023\n",
        "Big Data Security and Privacy Issues in Healthcare\n",
        "#1\n",
        "A.\n",
        "Introduction\n",
        "Data science is used in healthcare by storing sensitive patient and medical information, reduce fraud, and to preform predictive analysis to\n",
        " better access and identify patient outcomes. Big data serves as a tool to provide patients more trust and confidence with health and personal\n",
        " information.  Patients information is expected to be protected by Health Insurance Probability and Accountability Act, also known as HIPAA.\n",
        " President Lyndon B. Johnson signed into law HIPAA(1996),  which helped the formation of Medicare and Medicaid (HIPAA history 2023). Later Title\n",
        " II of HIPAA was crated, “Title II of HIPAA created a national health care fraud and abuse plan based on standards for the electronic transmission\n",
        " of certain health information. To ensure health information transmitted electronically remained secure, the Secretary of Health and Human Services\n",
        " was tasked with establishing security standards; and in order to determine what data was subject to the standards, additional privacy provisions were\n",
        "  established in the form of the Privacy Rule (HIPPA History 2023)”.\n",
        "Privacy is a human right in all areas of life. Confidentiality and privacy are important in healthcare because it is the gateway to instilling trust in\n",
        "the healthcare system to protect patients’ most sensitive information. The moral principle of ethics became not as taboo in the healthcare community over\n",
        "time, resulting in extensive privacy protocols being put into place. Over the years privacy in healthcare has been improved by violation of HIPAA being a\n",
        "federal offence, more identifiable names has been made to differentiate the different types of sensitive information such as protected health information\n",
        "(PHI), health information (HI) and personally identifying information (PII).\n",
        "Big data plays a vital role in maintaining information security and is continuously improving. Example of big data in healthcare security are encryption,\n",
        "restrict and track access, training and more. Using data tools for security results in better security efficiency, further exploration into data science,\n",
        "and maintain trust with customers. A breach in data could hurt the patient and company tremendously. One thing that security and privacy issues would directly\n",
        "re with is money. Money is used to finance healthcare and is the driving factor of many practices. The violation of security practices could lead to t\n",
        "he company and patients coming out of way more money than expected. Although, security and privacy have come ways since HIPAA was first signed into law,\n",
        " some bugs are still needed to be troubleshooted.\n",
        "\n",
        "Issues\n",
        "Healthcare is a necessity to maintain a healthy life. Because of this, hackers are prone to take advantage of people trying to improve their livelihood\n",
        "by stealing their information. Their motivation is usually money, the healthcare industry is amongst those earning over a 100 billion dollars per year,\n",
        "which is why ransomware attackers choose to attack healthcare companies. Ransomware attackers are those who use a form of malware to encrypt files that\n",
        " makes them unusable, they then demand ransom in exchange for the file’s decryption (Stop ransomware: CISA).\n",
        "2020 was the start of the scariest health phenomenon, COVID-19, when the world was shocked and was put through a global pandemic that took the lives of\n",
        " many people and caused lifelong health issues. The rise of COVID-19 and the worlds confusion led to health companies offering telehealth appointment,\n",
        " and other virtual/digital ways to be taken care of. New ways to access personal information means that more criminals are discovering ways to connive.\n",
        " Since this tool for providing care is fairly new, it lacks the proper security protocols that’s needed to protect sensitive information.\n",
        "Most people care the most about the financial impact of data breaches. It could cost the company money and the patient. The company may be charged for\n",
        "the failure to safely secure the patients information. The patient’s sensitive information contains social security number, dob, name, address, which all\n",
        "could be used to open many financial accounts. This type of situation could cause years’ worth of havoc and uncertainty.\n",
        "Solutions\n",
        "Being a victim of a cyber hack can be mentally tolling, painful, and embarrassing. As technology continue to advance, the better protected information will\n",
        "be kept safe. A way to improve the security of protected information is to implement more safety measures such as fingerprints or saliva samples. Yes, these\n",
        " are extreme and may even cause skepticism. With those faults, it may be more practical to start small with paying closer attention to where the personal\n",
        " information is stored. According to Upgaurd, many data breaches are due to criminals stealing from cars and simply not enough security protecting the files.\n",
        " rting there could limit some of the attacks, but others may take some new technical advances that are not yet practiced.\n",
        "Cyber security protects organizations and their employees from being victims of a cyber-attack. Positions in Cyber Security work to implement hardware and\n",
        "software mechanisms to protect the network and infrastructure from unauthorized uses (Synopsys 2023). Healthcare companies are on the right track with having\n",
        "a career to prevent cyber-attacks, which is extremely necessary with e rise of technology. The mechanisms can continue to be developed over time to hopefully\n",
        "put an end to cyber-attacks. The development could look like more advanced encryption tools, multiple layers of security, and more. Healthcare is continuous\n",
        "growing industry that is needed for humans to survive. Cybercrimes not only affect the company, but also the patients who are innocent and just wants to live\n",
        " a healthier life.  Money is not the only loss, people’s livelihoods are at stake and their future generations if the cybercrimes continue.\n",
        "B.\n",
        "Introduction\n",
        "\tIndividuals across the world saw the need to communicate with someone from a great distance of where they were. The need lead to the invention of the\n",
        "  invention of the first commercial telegraph (1837) by William Forthergill Cooke ad Charles Wheatstone. Over time the telegraph became less practical\n",
        "  with the advancement of computers and internet. The invention of the telegraph was a start to a more advanced society the was accessible to most across\n",
        "  the world. In the early 2000s the computer and internet that developed lead to the rise of social media. Social media is used to keep in touch with\n",
        "  friends, family members, see how their favorite celebrities live, network, fins job opportunities, learn information, dances, workouts, and so much\n",
        "  more. Social media began to rise in the early 2000s with the social network, MySpace. Teens and adults across used MySpace to showcase their\n",
        "  creativity, personality, and to meet others from all walks of life. Social media became a way for people to socialize through electronic devices,\n",
        "  a vast advancement from the electric telegraph. With little knowledge about the consequences that came from having such trust in the internet,\n",
        "  led to the carelessness of the users.\n",
        "\tThere are multiple different Social Networks, such as Traditional, Media Sharing, Discussion, Review, and Blogging. But one, in particular,\n",
        "   is seen as the most outright harmful to the development of society.  Traditional social networks are not only a please where many are subjected\n",
        "   to cyberbullying, but their personal information may even be obtained.\n",
        "Issues\n",
        "\tTraditional social networks, such as Instagram, allows a function where you can save your personal information like name, credit card number,\n",
        "   address, email address, and more to your account. Instagram found a need to ask for user’s personal information to quickly and efficiency use\n",
        "   app provided services, like shopping for clothes or booking a hair appointment. Social networks promise the users that their information will\n",
        "   be protected. Since user’s personal information is so accessible on social networks cyber criminals has used this to their advantage to steal\n",
        "   information.\n",
        "\tSocial networks attract many different people who use social media for different reasons. Some may even use apps like Instagram and Twitter to\n",
        "   find a partner. Skepticism has risen with meeting parts on social media due to many fake accounts being used to obtain more personal information,\n",
        "   such as bank account and social security numbers.\n",
        "\tIdentity theft has increased since the rise of social media, 46% of people that use social media has a higher risk of identity fraud (LegalJobs 20203).\n",
        "   Identity theft happens through social media when hackers steal personal information and use it to impersonate someone. Victims of identity theft\n",
        "   suffer from many psychological pains, anger, rage, and the feeling of overwhelmingness. Victims may never trust the security of digital networks,\n",
        "    preventing them from entering certain career fields, being informed, and more.\n",
        "Solution\n",
        "\tSocial media will continue to transform, it is cyber-security’s duty to protect users from cyber-attacks. Privacy concerns will be an issue with\n",
        "  social networks due to the user not having much control over their data and the inability for users to opt out of some advertisements. Most change\n",
        "   will come from education. Social networks may need to have a course during registration to notify the users on what to be aware of when using the\n",
        "   app. Social media can also be used as a way to be informed on the news, with this comes users spreading misinformation. Implementing a fact check\n",
        "    feature would be useful to limit the spread of misinformation. Multi-factor authentication is a great start to protecting user’s personal information.\n",
        "    Education about the risks of using social media will limit younger users, also cyber-criminals from being able to take advantage of the social network\n",
        "     users.\n",
        "\n",
        "\n",
        "\n",
        "\n",
        "\n",
        "\n",
        "\n",
        "\n",
        "\n",
        "\n",
        "\n",
        "\n",
        "\n",
        "\n",
        "\n",
        "\n",
        "\n",
        "\n",
        "\n",
        "Work Cited\n",
        "14 biggest healthcare data breaches [updated 2023]: Upguard. RSS. (n.d.). Retrieved March 14, 2023, from https://www.upguard.com/blog/biggest-data-breaches-in-healthcare\n",
        "Abouelmehdi, K., Beni-Hessane, A., & Khaloufi, H. (2018, January 9). Big Healthcare data: Preserving Security and Privacy - Journal of Big Data. SpringerOpen. Retrieved March 16, 2023, from https://journalofbigdata.springeropen.com/articles/10.1186/s40537-017-0110-7\n",
        "HIPAA history. HIPAA Journal. (2023, March 10). Retrieved March 14, 2023, from https://www.hipaajournal.com/hipaa-history/\n",
        "Kuadli, J. (2023, March 6). 15 insane identity theft statistics to keep in mind in 2023. Find Best Law Jobs in the US in 2023. Retrieved March 16, 2023, from https://legaljobs.io/blog/identity-theft-statistics/#:~:text=13.,to%20social%20media%20identity%20theft.\n",
        "Stop ransomware: CISA. Cybersecurity and Infrastructure Security Agency CISA. (n.d.). Retrieved March 14, 2023, from https://www.cisa.gov/stopransomware#:~:text=Ransomware%20is%20a%20form%20of,ransom%2https://www.cisa.gov/stopransomware#:~:text=Ransomware%20is%20a%20form%20of,ransom%20in%20exchange%20for%20decryption.0in%20exchange%20for%20decryption.\n",
        "\n",
        "\n",
        "\n",
        "\n",
        "\n"
      ]
    },
    {
      "cell_type": "code",
      "source": [],
      "metadata": {
        "id": "tyXcIJ68C1I5"
      },
      "execution_count": null,
      "outputs": []
    },
    {
      "cell_type": "code",
      "source": [
        "#2"
      ],
      "metadata": {
        "id": "sflGSzZ1C1vh"
      },
      "execution_count": null,
      "outputs": []
    },
    {
      "cell_type": "code",
      "source": [
        "!pip install pyspark\n",
        "!pip install numpy\n"
      ],
      "metadata": {
        "colab": {
          "base_uri": "https://localhost:8080/"
        },
        "id": "EtAoXDZvXtPV",
        "outputId": "f159a4f8-845e-4fd5-e63d-2ea29efeec48"
      },
      "execution_count": null,
      "outputs": [
        {
          "output_type": "stream",
          "name": "stdout",
          "text": [
            "Looking in indexes: https://pypi.org/simple, https://us-python.pkg.dev/colab-wheels/public/simple/\n",
            "Collecting pyspark\n",
            "  Downloading pyspark-3.3.2.tar.gz (281.4 MB)\n",
            "\u001b[2K     \u001b[90m━━━━━━━━━━━━━━━━━━━━━━━━━━━━━━━━━━━━━━━\u001b[0m \u001b[32m281.4/281.4 MB\u001b[0m \u001b[31m4.7 MB/s\u001b[0m eta \u001b[36m0:00:00\u001b[0m\n",
            "\u001b[?25h  Preparing metadata (setup.py) ... \u001b[?25l\u001b[?25hdone\n",
            "Collecting py4j==0.10.9.5\n",
            "  Downloading py4j-0.10.9.5-py2.py3-none-any.whl (199 kB)\n",
            "\u001b[2K     \u001b[90m━━━━━━━━━━━━━━━━━━━━━━━━━━━━━━━━━━━━━━\u001b[0m \u001b[32m199.7/199.7 KB\u001b[0m \u001b[31m18.8 MB/s\u001b[0m eta \u001b[36m0:00:00\u001b[0m\n",
            "\u001b[?25hBuilding wheels for collected packages: pyspark\n",
            "  Building wheel for pyspark (setup.py) ... \u001b[?25l\u001b[?25hdone\n",
            "  Created wheel for pyspark: filename=pyspark-3.3.2-py2.py3-none-any.whl size=281824028 sha256=27134261444351f9144986642a9b5af3c688b6c7404ba50b9917ac896c895f9f\n",
            "  Stored in directory: /root/.cache/pip/wheels/6c/e3/9b/0525ce8a69478916513509d43693511463c6468db0de237c86\n",
            "Successfully built pyspark\n",
            "Installing collected packages: py4j, pyspark\n",
            "  Attempting uninstall: py4j\n",
            "    Found existing installation: py4j 0.10.9.7\n",
            "    Uninstalling py4j-0.10.9.7:\n",
            "      Successfully uninstalled py4j-0.10.9.7\n",
            "Successfully installed py4j-0.10.9.5 pyspark-3.3.2\n",
            "Looking in indexes: https://pypi.org/simple, https://us-python.pkg.dev/colab-wheels/public/simple/\n",
            "Requirement already satisfied: numpy in /usr/local/lib/python3.9/dist-packages (1.22.4)\n"
          ]
        }
      ]
    },
    {
      "cell_type": "code",
      "source": [
        "from pyspark.ml.feature import Imputer\n",
        "from pyspark.ml.feature import VectorAssembler\n",
        "from pyspark.ml.feature import StandardScaler\n",
        "from pyspark.ml.clustering import KMeans\n",
        "from pyspark.ml.evaluation import ClusteringEvaluator\n",
        "from pyspark.sql.functions import *\n",
        "from pyspark.sql.types import DoubleType\n",
        "\n",
        "# Load the iris dataset\n",
        "iris = spark.read.format(\"csv\").option(\"header\", \"true\").option(\"inferSchema\", \"true\").load(\"IRIS.csv\")\n",
        "\n",
        "\n",
        "assembler = VectorAssembler(inputCols=[\"sepal_length\", \"sepal_width\", \"petal_length\", \"petal_width\"], outputCol=\"features\")\n",
        "iris = assembler.transform(iris)\n",
        "\n",
        "scaler = StandardScaler(inputCol=\"features\", outputCol=\"scaled_features\")\n",
        "iris = scaler.fit(iris).transform(iris)\n",
        "\n",
        "kmeans = KMeans(featuresCol=\"scaled_features\", k=5, seed=42)\n",
        "model = kmeans.fit(iris)\n",
        "\n",
        "\n",
        "predictions = model.transform(iris)\n",
        "\n",
        "\n",
        "imputer_cols = [\"sepal_length\", \"sepal_width\", \"petal_length\", \"petal_width\"]\n",
        "\n",
        "\n",
        "imputer = Imputer(inputCols=imputer_cols, outputCols=imputer_cols)\n",
        "imputed_iris = imputer.fit(predictions).transform(predictions)\n",
        "\n",
        "imputed_iris.show()\n"
      ],
      "metadata": {
        "colab": {
          "base_uri": "https://localhost:8080/"
        },
        "id": "3g0RATDcehBf",
        "outputId": "432def7f-82c0-41b6-d910-289222a00b15"
      },
      "execution_count": null,
      "outputs": [
        {
          "output_type": "stream",
          "name": "stdout",
          "text": [
            "+------------+-----------+------------+-----------+-----------+-----------------+--------------------+----------+\n",
            "|sepal_length|sepal_width|petal_length|petal_width|    species|         features|     scaled_features|prediction|\n",
            "+------------+-----------+------------+-----------+-----------+-----------------+--------------------+----------+\n",
            "|         5.1|        3.5|         1.4|        0.2|Iris-setosa|[5.1,3.5,1.4,0.2]|[6.15892840883878...|         1|\n",
            "|         4.9|        3.0|         1.4|        0.2|Iris-setosa|[4.9,3.0,1.4,0.2]|[5.9174018045706,...|         1|\n",
            "|         4.7|        3.2|         1.3|        0.2|Iris-setosa|[4.7,3.2,1.3,0.2]|[5.67587520030241...|         1|\n",
            "|         4.6|        3.1|         1.5|        0.2|Iris-setosa|[4.6,3.1,1.5,0.2]|[5.55511189816831...|         1|\n",
            "|         5.0|        3.6|         1.4|        0.2|Iris-setosa|[5.0,3.6,1.4,0.2]|[6.03816510670469...|         1|\n",
            "|         5.4|        3.9|         1.7|        0.4|Iris-setosa|[5.4,3.9,1.7,0.4]|[6.52121831524107...|         1|\n",
            "|         4.6|        3.4|         1.4|        0.3|Iris-setosa|[4.6,3.4,1.4,0.3]|[5.55511189816831...|         1|\n",
            "|         5.0|        3.4|         1.5|        0.2|Iris-setosa|[5.0,3.4,1.5,0.2]|[6.03816510670469...|         1|\n",
            "|         4.4|        2.9|         1.4|        0.2|Iris-setosa|[4.4,2.9,1.4,0.2]|[5.31358529390013...|         1|\n",
            "|         4.9|        3.1|         1.5|        0.1|Iris-setosa|[4.9,3.1,1.5,0.1]|[5.9174018045706,...|         1|\n",
            "|         5.4|        3.7|         1.5|        0.2|Iris-setosa|[5.4,3.7,1.5,0.2]|[6.52121831524107...|         1|\n",
            "|         4.8|        3.4|         1.6|        0.2|Iris-setosa|[4.8,3.4,1.6,0.2]|[5.79663850243650...|         1|\n",
            "|         4.8|        3.0|         1.4|        0.1|Iris-setosa|[4.8,3.0,1.4,0.1]|[5.79663850243650...|         1|\n",
            "|         4.3|        3.0|         1.1|        0.1|Iris-setosa|[4.3,3.0,1.1,0.1]|[5.19282199176603...|         1|\n",
            "|         5.8|        4.0|         1.2|        0.2|Iris-setosa|[5.8,4.0,1.2,0.2]|[7.00427152377744...|         1|\n",
            "|         5.7|        4.4|         1.5|        0.4|Iris-setosa|[5.7,4.4,1.5,0.4]|[6.88350822164335...|         1|\n",
            "|         5.4|        3.9|         1.3|        0.4|Iris-setosa|[5.4,3.9,1.3,0.4]|[6.52121831524107...|         1|\n",
            "|         5.1|        3.5|         1.4|        0.3|Iris-setosa|[5.1,3.5,1.4,0.3]|[6.15892840883878...|         1|\n",
            "|         5.7|        3.8|         1.7|        0.3|Iris-setosa|[5.7,3.8,1.7,0.3]|[6.88350822164335...|         1|\n",
            "|         5.1|        3.8|         1.5|        0.3|Iris-setosa|[5.1,3.8,1.5,0.3]|[6.15892840883878...|         1|\n",
            "+------------+-----------+------------+-----------+-----------+-----------------+--------------------+----------+\n",
            "only showing top 20 rows\n",
            "\n"
          ]
        }
      ]
    },
    {
      "cell_type": "code",
      "source": [
        "\n",
        "\n",
        "iris = iris.withColumn(\"label\", iris[\"label\"].cast(DoubleType()))\n",
        "from pyspark.sql.functions import lit\n",
        "\n",
        "iris = df.withColumn(\"prediction\", lit(0))"
      ],
      "metadata": {
        "id": "jPGtJsHcezwL"
      },
      "execution_count": null,
      "outputs": []
    },
    {
      "cell_type": "markdown",
      "source": [
        "PCA"
      ],
      "metadata": {
        "id": "vwJLOo_UgUvp"
      }
    },
    {
      "cell_type": "code",
      "source": [
        "from pyspark.ml.feature import PCA\n",
        "from pyspark.ml.linalg import Vectors\n",
        "\n",
        "\n",
        "iris_df = spark.read.csv(\"iris_data.csv\", header=True, inferSchema=True)\n",
        "\n",
        "\n",
        "assembler = VectorAssembler(inputCols=[\"sepal_length\", \"sepal_width\", \"petal_length\", \"petal_width\"],\n",
        "                            outputCol=\"features\")\n",
        "iris_df = assembler.transform(iris_df)\n",
        "\n",
        "\n",
        "iris_df = iris_df.drop(\"sepal_length\", \"sepal_width\", \"petal_length\", \"petal_width\")\n",
        "\n",
        "\n",
        "pca = PCA(k=2, inputCol=\"features\", outputCol=\"pca_features\")\n",
        "pca_model = pca.fit(iris_df)\n",
        "iris_pca = pca_model.transform(iris_df)\n",
        "\n",
        "\n",
        "iris_pca.show(5)\n"
      ],
      "metadata": {
        "colab": {
          "base_uri": "https://localhost:8080/"
        },
        "id": "tAURarkjgXDq",
        "outputId": "c2edcbd7-1da0-4d4d-de29-915688e9cddf"
      },
      "execution_count": null,
      "outputs": [
        {
          "output_type": "stream",
          "name": "stdout",
          "text": [
            "+-------+-----------------+--------------------+\n",
            "|species|         features|        pca_features|\n",
            "+-------+-----------------+--------------------+\n",
            "|      0|[5.1,3.5,1.4,0.2]|[-2.8271359726790...|\n",
            "|      0|[4.9,3.0,1.4,0.2]|[-2.7959524821488...|\n",
            "|      0|[4.7,3.2,1.3,0.2]|[-2.6215235581650...|\n",
            "|      0|[4.6,3.1,1.5,0.2]|[-2.7649059004742...|\n",
            "|      0|[5.0,3.6,1.4,0.2]|[-2.7827501159516...|\n",
            "+-------+-----------------+--------------------+\n",
            "only showing top 5 rows\n",
            "\n"
          ]
        }
      ]
    },
    {
      "cell_type": "code",
      "source": [
        "#logistic pregression\n",
        "\n",
        "from pyspark.ml.classification import LogisticRegression\n",
        "from pyspark.ml.evaluation import MulticlassClassificationEvaluator\n",
        "from pyspark.ml.feature import VectorAssembler, StandardScaler\n",
        "from pyspark.ml.tuning import ParamGridBuilder, CrossValidator\n",
        "from pyspark.sql.functions import col\n",
        "\n",
        "df = spark.read.csv('/content/iris_data.csv', header=True, inferSchema=True)\n",
        "\n",
        "(trainingData, testData) = df.randomSplit([0.7, 0.3], seed=100)\n",
        "\n",
        "\n",
        "assembler = VectorAssembler(inputCols=['sepal_length', 'sepal_width', 'petal_length', 'petal_width'], outputCol='features')\n",
        "scaler = StandardScaler(inputCol='features', outputCol='scaled_features')\n",
        "\n",
        "trainDataScaled = assembler.transform(trainingData)\n",
        "testDataScaled = assembler.transform(testData)\n",
        "\n",
        "scalerModel = scaler.fit(trainDataScaled)\n",
        "trainDataScaled = scalerModel.transform(trainDataScaled)\n",
        "testDataScaled = scalerModel.transform(testDataScaled)\n",
        "\n",
        "\n",
        "lr = LogisticRegression(featuresCol='scaled_features', labelCol='species', maxIter=100)\n",
        "\n",
        "\n",
        "paramGrid = ParamGridBuilder() \\\n",
        "            .addGrid(lr.regParam, [0.01, 0.1, 1.0]) \\\n",
        "            .addGrid(lr.elasticNetParam, [0.0, 0.5, 1.0]) \\\n",
        "            .build()\n",
        "\n",
        "\n",
        "evaluator = MulticlassClassificationEvaluator(labelCol='species', predictionCol='prediction', metricName='accuracy')\n",
        "cv = CrossValidator(estimator=lr, estimatorParamMaps=paramGrid, evaluator=evaluator, numFolds=5)\n",
        "\n",
        "from pyspark.ml.feature import StringIndexer\n",
        "\n",
        "indexer = StringIndexer(inputCol=\"species\", outputCol=\"species\")\n",
        "from pyspark.ml.feature import StringIndexer\n",
        "\n",
        "indexer = StringIndexer(inputCol=\"species\", outputCol=\"species\")\n",
        "\n",
        "\n",
        "df.show()\n",
        "\n",
        "\n",
        "cvModel = cv.fit(trainDataScaled)\n",
        "\n",
        "\n",
        "predictions = cvModel.transform(testDataScaled)\n",
        "\n",
        "accuracy = evaluator.evaluate(predictions)\n",
        "print(\"Accuracy: {}\".format(accuracy))\n",
        "\n",
        "bestModel = cvModel.bestModel\n",
        "print(\"Best model parameters:\")\n",
        "print(\"  regParam: {}\".format(bestModel._java_obj.getRegParam()))\n",
        "print(\"  elasticNetParam: {}\".format(bestModel._java_obj.getElasticNetParam()))\n"
      ],
      "metadata": {
        "id": "J2STTLHMgeSY"
      },
      "execution_count": null,
      "outputs": []
    },
    {
      "cell_type": "code",
      "source": [
        "#random forest\n",
        "from pyspark.ml.feature import VectorAssembler\n",
        "from pyspark.ml.classification import RandomForestClassifier\n",
        "from pyspark.ml.evaluation import MulticlassClassificationEvaluator\n",
        "\n",
        "\n",
        "iris_df = spark.read.csv(\"iris_data.csv\").option(\"header\", \"true\").load(\"iris.csv\")\n",
        "\n",
        "\n",
        "iris_df = iris_df.withColumn(\"species\", iris_df[\"species\"].cast(\"double\"))\n",
        "\n",
        "\n",
        "assembler = VectorAssembler(inputCols=[\"sepal_length\", \"sepal_width\", \"petal_length\", \"petal_width\"], outputCol=\"features\")\n",
        "assembled_df = assembler.transform(iris_df)\n",
        "\n",
        "\n",
        "(training_data, test_data) = assembled_df.randomSplit([0.7, 0.3])\n",
        "\n",
        "\n",
        "estimators = [10, 20, 30, 40, 50]\n",
        "\n",
        "\n",
        "for estimator in estimators:\n",
        "  rf = RandomForestClassifier(numTrees=estimator)\n",
        "  model = rf.fit(training_data)\n",
        "  predictions = model.transform(test_data)\n",
        "  evaluator = MulticlassClassificationEvaluator(metricName=\"accuracy\")\n",
        "  accuracy = evaluator.evaluate(predictions)\n",
        "  print(\"Estimator value:\", estimator, \"Accuracy:\", accuracy)\n"
      ],
      "metadata": {
        "id": "FKTUtD3Ts5ci"
      },
      "execution_count": null,
      "outputs": []
    },
    {
      "cell_type": "code",
      "source": [
        "#SVM\n",
        "from pyspark.ml.classification import LinearSVC\n",
        "from pyspark.ml.evaluation import MulticlassClassificationEvaluator\n",
        "from pyspark.ml.feature import VectorAssembler\n",
        "from pyspark.sql.functions import when\n",
        "\n",
        "# Load iris dataset\n",
        "iris_df = spark.read.fcsv(\"iris_csv\").option(\"header\", \"true\").load(\"iris.csv\")\n",
        "\n",
        "iris_df = iris_df.withColumn(\"label\", when(iris_df.species == \"setosa\", 0).when(iris_df.species == \"versicolor\", 1).otherwise(2))\n",
        "\n",
        "\n",
        "assembler = VectorAssembler(inputCols=[\"sepal_length\", \"sepal_width\", \"petal_length\", \"petal_width\"], outputCol=\"features\")\n",
        "iris_df = assembler.transform(iris_df)\n",
        "\n",
        "\n",
        "(training_data, testing_data) = iris_df.randomSplit([0.7, 0.3], seed=100)\n",
        "\n",
        "svm_linear = LinearSVC(maxIter=10, regParam=0.1, featuresCol=\"features\", labelCol=\"label\")\n",
        "svm_poly = LinearSVC(maxIter=10, regParam=0.1, featuresCol=\"features\", labelCol=\"label\", solver=\"poly\")\n",
        "svm_rbf = LinearSVC(maxIter=10, regParam=0.1, featuresCol=\"features\", labelCol=\"label\", solver=\"rbf\")\n",
        "\n",
        "\n",
        "svm_linear_model = svm_linear.fit(training_data)\n",
        "svm_poly_model = svm_poly.fit(training_data)\n",
        "svm_rbf_model = svm_rbf.fit(training_data)\n",
        "\n",
        "\n",
        "evaluator = MulticlassClassificationEvaluator(labelCol=\"label\", predictionCol=\"prediction\", metricName=\"accuracy\")\n",
        "\n",
        "svm_linear_predictions = svm_linear_model.transform(testing_data)\n",
        "svm_linear_accuracy = evaluator.evaluate(svm_linear_predictions)\n",
        "print(\"Linear SVM Accuracy: {:.2f}%\".format(svm_linear_accuracy * 100))\n",
        "\n",
        "svm_poly_predictions = svm_poly_model.transform(testing_data)\n",
        "svm_poly_accuracy = evaluator.evaluate(svm_poly_predictions)\n",
        "print(\"Polynomial SVM Accuracy: {:.2f}%\".format(svm_poly_accuracy * 100))\n",
        "\n",
        "svm_rbf_predictions = svm_rbf_model.transform(testing_data)\n",
        "svm_rbf_accuracy = evaluator.evaluate(svm_rbf_predictions)\n",
        "print(\"RBF SVM Accuracy: {:.2f}%\".format(svm_rbf_accuracy * 100))\n",
        "\n"
      ],
      "metadata": {
        "id": "p0ZWdYlRuCVi"
      },
      "execution_count": null,
      "outputs": []
    },
    {
      "cell_type": "code",
      "source": [],
      "metadata": {
        "id": "wNoxzDGq0C2j"
      },
      "execution_count": null,
      "outputs": []
    },
    {
      "cell_type": "code",
      "source": [
        "!pip install spark-knn\n",
        "from pyspark.ml.feature import VectorAssembler\n",
        "from pyspark.ml.classification import KNNClassifier\n",
        "from pyspark.ml.evaluation import MulticlassClassificationEvaluator\n",
        "from org.apache.spark.ml.feature import StandardScaler\n",
        "from org.apache.spark.ml.feature import SQLTransformer\n",
        "from org.apache.spark.ml.feature import VectorAssembler\n",
        "from org.apache.spark.ml.classification import DecisionTreeClassifier\n",
        "from org.apache.spark.ml.evaluation import MulticlassClassificationEvaluator\n",
        "from org.apache.spark.ml.tuning import CrossValidator, ParamGridBuilder"
      ],
      "metadata": {
        "colab": {
          "base_uri": "https://localhost:8080/",
          "height": 443
        },
        "id": "GOt3ynFLwQbT",
        "outputId": "4034b09c-b4a8-4a05-f673-8bfb5d9a72fe"
      },
      "execution_count": null,
      "outputs": [
        {
          "output_type": "stream",
          "name": "stdout",
          "text": [
            "Looking in indexes: https://pypi.org/simple, https://us-python.pkg.dev/colab-wheels/public/simple/\n",
            "\u001b[31mERROR: Could not find a version that satisfies the requirement spark-knn (from versions: none)\u001b[0m\u001b[31m\n",
            "\u001b[0m\u001b[31mERROR: No matching distribution found for spark-knn\u001b[0m\u001b[31m\n",
            "\u001b[0m"
          ]
        },
        {
          "output_type": "error",
          "ename": "ImportError",
          "evalue": "ignored",
          "traceback": [
            "\u001b[0;31m---------------------------------------------------------------------------\u001b[0m",
            "\u001b[0;31mImportError\u001b[0m                               Traceback (most recent call last)",
            "\u001b[0;32m<ipython-input-82-e1f1e7f28f3f>\u001b[0m in \u001b[0;36m<module>\u001b[0;34m\u001b[0m\n\u001b[1;32m      1\u001b[0m \u001b[0mget_ipython\u001b[0m\u001b[0;34m(\u001b[0m\u001b[0;34m)\u001b[0m\u001b[0;34m.\u001b[0m\u001b[0msystem\u001b[0m\u001b[0;34m(\u001b[0m\u001b[0;34m'pip install spark-knn'\u001b[0m\u001b[0;34m)\u001b[0m\u001b[0;34m\u001b[0m\u001b[0;34m\u001b[0m\u001b[0m\n\u001b[1;32m      2\u001b[0m \u001b[0;32mfrom\u001b[0m \u001b[0mpyspark\u001b[0m\u001b[0;34m.\u001b[0m\u001b[0mml\u001b[0m\u001b[0;34m.\u001b[0m\u001b[0mfeature\u001b[0m \u001b[0;32mimport\u001b[0m \u001b[0mVectorAssembler\u001b[0m\u001b[0;34m\u001b[0m\u001b[0;34m\u001b[0m\u001b[0m\n\u001b[0;32m----> 3\u001b[0;31m \u001b[0;32mfrom\u001b[0m \u001b[0mpyspark\u001b[0m\u001b[0;34m.\u001b[0m\u001b[0mml\u001b[0m\u001b[0;34m.\u001b[0m\u001b[0mclassification\u001b[0m \u001b[0;32mimport\u001b[0m \u001b[0mKNNClassifier\u001b[0m\u001b[0;34m\u001b[0m\u001b[0;34m\u001b[0m\u001b[0m\n\u001b[0m\u001b[1;32m      4\u001b[0m \u001b[0;32mfrom\u001b[0m \u001b[0mpyspark\u001b[0m\u001b[0;34m.\u001b[0m\u001b[0mml\u001b[0m\u001b[0;34m.\u001b[0m\u001b[0mevaluation\u001b[0m \u001b[0;32mimport\u001b[0m \u001b[0mMulticlassClassificationEvaluator\u001b[0m\u001b[0;34m\u001b[0m\u001b[0;34m\u001b[0m\u001b[0m\n\u001b[1;32m      5\u001b[0m \u001b[0;32mfrom\u001b[0m \u001b[0morg\u001b[0m\u001b[0;34m.\u001b[0m\u001b[0mapache\u001b[0m\u001b[0;34m.\u001b[0m\u001b[0mspark\u001b[0m\u001b[0;34m.\u001b[0m\u001b[0mml\u001b[0m\u001b[0;34m.\u001b[0m\u001b[0mfeature\u001b[0m \u001b[0;32mimport\u001b[0m \u001b[0mStandardScaler\u001b[0m\u001b[0;34m\u001b[0m\u001b[0;34m\u001b[0m\u001b[0m\n",
            "\u001b[0;31mImportError\u001b[0m: cannot import name 'KNNClassifier' from 'pyspark.ml.classification' (/usr/local/lib/python3.9/dist-packages/pyspark/ml/classification.py)",
            "",
            "\u001b[0;31m---------------------------------------------------------------------------\u001b[0;32m\nNOTE: If your import is failing due to a missing package, you can\nmanually install dependencies using either !pip or !apt.\n\nTo view examples of installing some common dependencies, click the\n\"Open Examples\" button below.\n\u001b[0;31m---------------------------------------------------------------------------\u001b[0m\n"
          ],
          "errorDetails": {
            "actions": [
              {
                "action": "open_url",
                "actionText": "Open Examples",
                "url": "/notebooks/snippets/importing_libraries.ipynb"
              }
            ]
          }
        }
      ]
    },
    {
      "cell_type": "code",
      "source": [
        "#KNN\n",
        "from pyspark.ml.feature import VectorAssembler\n",
        "from pyspark.ml.feature import StandardScaler\n",
        "from pyspark.ml.classification import KNNClassifier\n",
        "from pyspark.ml.evaluation import MulticlassClassificationEvaluator\n",
        "data = spark.read.csv(\"iris_data.csv\", header=True, inferSchema=True)\n",
        "data = data.withColumn(\"label\", when(col(\"species\") == \"setosa\", 0).when(col(\"species\") == \"versicolor\", 1).otherwise(2))\n",
        "train, test = data.randomSplit([0.7, 0.3], seed=12345)\n",
        "assembler = VectorAssembler(inputCols=[\"sepal_length\", \"sepal_width\", \"petal_length\", \"petal_width\"], outputCol=\"features\")\n",
        "scaler = StandardScaler(inputCol=\"features\", outputCol=\"scaled_features\")\n",
        "knn = KNNClassifier(featuresCol=\"scaled_features\", labelCol=\"label\")\n",
        "pipeline = Pipeline(stages=[assembler, scaler, knn])\n",
        "k_values = [1, 2, 5, 10, 20]\n",
        "for k in k_values:\n",
        "  knn.setK(k)\n",
        "  model = pipeline.fit(train)\n",
        "  predictions = model.transform(test)\n",
        "evaluator = MulticlassClassificationEvaluator(predictionCol=\"prediction\", labelCol=\"label\", metricName=\"accuracy\")\n",
        "accuracy = evaluator.evaluate(predictions)\n",
        "print(\"Accuracy for k =\", k, \":\", accuracy)\n"
      ],
      "metadata": {
        "id": "T1ZoovEzvV7D"
      },
      "execution_count": null,
      "outputs": []
    },
    {
      "cell_type": "code",
      "source": [
        "from pyspark.ml.classification import LogisticRegression\n",
        "from pyspark.ml.evaluation import MulticlassClassificationEvaluator\n",
        "from pyspark.ml.tuning import ParamGridBuilder, CrossValidator\n",
        "from pyspark.ml.feature import VectorAssembler\n",
        "\n",
        "# Load iris dataset\n",
        "iris = spark.read.csv(\"iris_data.csv\", inferSchema=True, header=True)\n",
        "\n",
        "\n",
        "iris = iris.withColumn(\"species\", iris[\"species\"].cast(\"double\"))\n",
        "\n",
        "\n",
        "(trainingData, testData) = iris.randomSplit([0.8, 0.2], seed=1234)\n",
        "\n",
        "assembler = VectorAssembler(inputCols=[\"sepal_length\", \"sepal_width\", \"petal_length\", \"petal_width\"], outputCol=\"features\")\n",
        "\n",
        "lr = LogisticRegression(featuresCol=\"features\", labelCol=\"species\")\n",
        "\n",
        "\n",
        "paramGrid = ParamGridBuilder() \\\n",
        "    .addGrid(lr.regParam, [0.01, 0.05, 0.1]) \\\n",
        "    .addGrid(lr.elasticNetParam, [0.0, 0.5, 1.0]) \\\n",
        "    .build()\n",
        "\n",
        "\n",
        "evaluator = MulticlassClassificationEvaluator(labelCol=\"species\", predictionCol=\"prediction\", metricName=\"accuracy\")\n",
        "\n",
        "\n",
        "cv = CrossValidator(estimator=lr, estimatorParamMaps=paramGrid, evaluator=evaluator, numFolds=5)\n",
        "\n",
        "\n",
        "cvModel = cv.fit(trainingData)\n",
        "\n",
        "\n",
        "bestModel = cvModel.bestModel\n",
        "\n",
        "\n",
        "predictions = bestModel.transform(testData)\n",
        "\n",
        "accuracy = evaluator.evaluate(predictions)\n",
        "print(\"Accuracy = {}\".format(accuracy))\n"
      ],
      "metadata": {
        "id": "or2CpIM1uwwz"
      },
      "execution_count": null,
      "outputs": []
    },
    {
      "cell_type": "code",
      "source": [
        "#accuracy"
      ],
      "metadata": {
        "id": "ecVukL-o0FFP"
      },
      "execution_count": null,
      "outputs": []
    },
    {
      "cell_type": "code",
      "source": [
        "from pyspark.sql import SparkSession\n",
        "from pyspark.ml.evaluation import MulticlassClassificationEvaluator\n",
        "spark = SparkSession.builder.appName('classification_accuracy').getOrCreate()\n",
        "data = spark.read.format('csv').option('header', 'true').load('iris_data.csv')\n",
        "train, test = data.randomSplit([0.7, 0.3], seed=12345)\n",
        "from pyspark.ml.classification import RandomForestClassifier\n",
        "\n",
        "rf = RandomForestClassifier(featuresCol='features', labelCol='label', numTrees=10)\n",
        "model = rf.fit(train)\n",
        "predictions = model.transform(test)\n",
        "predictions = model.transform(test)\n",
        "evaluator = MulticlassClassificationEvaluator(predictionCol='prediction', labelCol='label', metricName='accuracy')\n",
        "accuracy = evaluator.evaluate(predictions)\n",
        "print('Classification accuracy:', accuracy)\n",
        "\n",
        "\n",
        "predictions = model.transform(test)\n",
        "evaluator = MulticlassClassificationEvaluator(predictionCol='prediction', labelCol='label', metricName='accuracy')\n",
        "accuracy = evaluator.evaluate(predictions)\n",
        "print('Classification accuracy:', accuracy)\n"
      ],
      "metadata": {
        "id": "L44D_dv30GQw"
      },
      "execution_count": null,
      "outputs": []
    },
    {
      "cell_type": "code",
      "source": [
        "#Percision and recall\n",
        "from pyspark.sql import SparkSession\n",
        "from pyspark.ml.evaluation import MulticlassClassificationEvaluator\n",
        "from pyspark.ml.feature import StringIndexer\n",
        "from pyspark.ml.classification import DecisionTreeClassifier\n",
        "from pyspark.ml.evaluation import MulticlassClassificationEvaluator\n",
        "from pyspark.ml.feature import VectorAssembler\n",
        "\n",
        "spark = SparkSession.builder.appName('iris_precision').getOrCreate()\n",
        "\n",
        "\n",
        "data = spark.read.format('csv').option('header', 'true').load('/path/to/iris.csv')\n",
        "(trainingData, testData) = data.randomSplit([0.7, 0.3])\n",
        "\n",
        "labelIndexer = StringIndexer(inputCol=\"species\", outputCol=\"indexedLabel\").fit(data)\n",
        "\n",
        "\n",
        "featureAssembler = VectorAssembler(inputCols=[\"sepal_length\", \"sepal_width\", \"petal_length\", \"petal_width\"], outputCol=\"features\")\n",
        "\n",
        "dt = DecisionTreeClassifier(labelCol=\"indexedLabel\", featuresCol=\"features\")\n",
        "pipeline = Pipeline(stages=[labelIndexer, featureAssembler, dt])\n",
        "model = pipeline.fit(trainingData)\n",
        "\n",
        "predictions = model.transform(testData)\n",
        "\n",
        "evaluator = MulticlassClassificationEvaluator(\n",
        "    labelCol=\"indexedLabel\", predictionCol=\"prediction\", metricName=\"precision\")\n",
        "precision = evaluator.evaluate(predictions)\n",
        "print(\"Precision = %g\" % (precision))\n"
      ],
      "metadata": {
        "id": "CFq--2Av1hdF"
      },
      "execution_count": null,
      "outputs": []
    },
    {
      "cell_type": "code",
      "source": [
        "#f1 score\n",
        "from pyspark.ml import Pipeline\n",
        "\n",
        "spark = SparkSession.builder.appName('iris_f1score').getOrCreate()\n",
        "\n",
        "data = spark.read.format('csv').option('header', 'true').load('iris_data.csv')\n",
        "(trainingData, testData) = data.randomSplit([0.7, 0.3])\n"
      ],
      "metadata": {
        "id": "udkwIbU80SEn"
      },
      "execution_count": null,
      "outputs": []
    },
    {
      "cell_type": "code",
      "source": [
        "from pyspark.sql.functions import col\n",
        "from pyspark.sql.types import DoubleType\n",
        "\n",
        "# Load the Iris dataset\n",
        "iris_df = spark.read.csv('iris_data.csv', header=True, inferSchema=True)\n",
        "\n",
        "# Convert string columns to DoubleType\n",
        "iris_df = iris_df.select(\n",
        "    col(\"sepal_length\").cast(DoubleType()),\n",
        "    col(\"sepal_width\").cast(DoubleType()),\n",
        "    col(\"petal_length\").cast(DoubleType()),\n",
        "    col(\"petal_width\").cast(DoubleType()),\n",
        "    col(\"species\")\n",
        ")\n",
        "\n",
        "# Verify that the data types have been converted\n",
        "iris_df.printSchema()"
      ],
      "metadata": {
        "colab": {
          "base_uri": "https://localhost:8080/"
        },
        "id": "DrdEYzNG4dVf",
        "outputId": "acf2dbe2-4c23-4462-edce-32fba986dbcf"
      },
      "execution_count": null,
      "outputs": [
        {
          "output_type": "stream",
          "name": "stdout",
          "text": [
            "root\n",
            " |-- sepal_length: double (nullable = true)\n",
            " |-- sepal_width: double (nullable = true)\n",
            " |-- petal_length: double (nullable = true)\n",
            " |-- petal_width: double (nullable = true)\n",
            " |-- species: string (nullable = true)\n",
            "\n"
          ]
        }
      ]
    },
    {
      "cell_type": "code",
      "source": [
        "labelIndexer = StringIndexer(inputCol=\"species\", outputCol=\"indexedLabel\").fit(data)\n",
        "featureAssembler = VectorAssembler(inputCols=[\"sepal_length\", \"sepal_width\", \"petal_length\", \"petal_width\"], outputCol=\"features\")\n",
        "dt = DecisionTreeClassifier(labelCol=\"indexedLabel\", featuresCol=\"features\")\n",
        "pipeline = Pipeline(stages=[labelIndexer, featureAssembler, dt])\n",
        "model = pipeline.fit(trainingData)\n",
        "\n",
        "\n",
        "\n",
        "predictions = model.transform(testData)\n",
        "evaluator = MulticlassClassificationEvaluator(\n",
        "    labelCol=\"indexedLabel\", predictionCol=\"prediction\", metricName=\"f1\")\n",
        "f1score = evaluator.evaluate(predictions)\n",
        "print(\"F1 Score = %g\" % (f1score))\n",
        "\n"
      ],
      "metadata": {
        "id": "L6fxN9EM3swp"
      },
      "execution_count": null,
      "outputs": []
    },
    {
      "cell_type": "code",
      "source": [
        "#AUC and ROC\n",
        "from pyspark.ml.evaluation import BinaryClassificationEvaluator\n",
        "from pyspark.ml.feature import VectorAssembler\n",
        "import matplotlib.pyplot as plt\n",
        "from sklearn.metrics import roc_curve, auc\n",
        "evaluator = BinaryClassificationEvaluator(\n",
        "    labelCol=\"indexedLabel\", rawPredictionCol=\"rawPrediction\", metricName=\"areaUnderROC\")\n",
        "roc_score = evaluator.evaluate(predictions)\n",
        "\n",
        "\n",
        "results = predictions.select(['probability', 'indexedLabel']).rdd.map(lambda row: (float(row['probability'][1]), float(row['indexedLabel'])))\n",
        "\n",
        "fpr, tpr, thresholds = roc_curve(results.map(lambda x: x[1]).collect(), results.map(lambda x: x[0]).collect())\n",
        "roc_auc = auc(fpr, tpr)\n",
        "\n",
        "plt.title('Receiver Operating Characteristic')\n",
        "plt.plot(fpr, tpr, 'b', label = 'AUC = %0.2f' % roc_auc)\n",
        "plt.legend(loc = 'lower right')\n",
        "plt.plot([0, 1], [0, 1],'r--')\n",
        "plt.xlim([0, 1])\n",
        "plt.ylim([0, 1])\n",
        "plt.ylabel('True Positive Rate')\n",
        "plt.xlabel('False Positive Rate')\n",
        "plt.show()\n"
      ],
      "metadata": {
        "id": "KNLQvg6_3u1I"
      },
      "execution_count": null,
      "outputs": []
    },
    {
      "cell_type": "code",
      "source": [
        "#ROC\n",
        "spark = SparkSession.builder.appName(\"IrisROC\").getOrCreate()\n",
        "evaluator = BinaryClassificationEvaluator(labelCol=\"label\")\n",
        "auc = evaluator.evaluate(predictions, {evaluator.metricName: \"areaUnderROC\"})\n",
        "print(\"AUC:\", auc)\n",
        "\n",
        "# Compute the ROC curve and plot it\n",
        "probs = predictions.select(\"probability\").rdd.map(lambda x: x[0][1]).collect()\n",
        "labels = predictions.select(\"label\").rdd.map(lambda x: x[0]).collect()\n",
        "fpr, tpr, _ = roc_curve(labels, probs)\n",
        "roc_auc = auc(fpr, tpr)\n",
        "plt.figure(figsize=(6,6))\n",
        "plt.plot(fpr, tpr, label=\"ROC curve (AUC = {:.2f})\".format(roc_auc))\n",
        "plt.plot([0, 1], [0, 1], linestyle='--', label='Random guess')\n",
        "plt.xlim([0.0, 1.0])\n",
        "plt.ylim([0.0, 1.0])\n",
        "plt.xlabel('False Positive Rate')\n",
        "plt.ylabel('True Positive Rate')\n",
        "plt.title('Receiver Operating Characteristic')\n",
        "plt.legend(loc=\"lower right\")\n",
        "plt.show()"
      ],
      "metadata": {
        "id": "IBvI3pgb5ew_"
      },
      "execution_count": null,
      "outputs": []
    },
    {
      "cell_type": "code",
      "source": [
        "#3"
      ],
      "metadata": {
        "id": "RhTDc2sx8DVd"
      },
      "execution_count": null,
      "outputs": []
    },
    {
      "cell_type": "code",
      "source": [
        "from pyspark.sql import SparkSession\n",
        "spark = SparkSession.builder.master('local[*]').getOrCreate()\n",
        "from pyspark import SparkContext\n",
        "sc = SparkContext.getOrCreate\n",
        "from pyspark import SparkContext\n",
        "sc = SparkContext.getOrCreate()\n",
        "tfile = sc.textFile(\"wc.txt\")\n",
        "counts = tfile.flatMap(lambda line: line.split(\" \")) \\\n",
        "                            .map(lambda word: (word, 1)) \\\n",
        "                           .reduceByKey(lambda x, y: x + y)\n",
        "output = counts.collect()\n",
        "for (word, count) in output:\n",
        "    print(\"%s: %i\" % (word, count))\n",
        "\n",
        "\n"
      ],
      "metadata": {
        "colab": {
          "base_uri": "https://localhost:8080/"
        },
        "id": "HVgZiwNd8EUK",
        "outputId": "587bdd36-781e-416a-ae3e-c0de1a581b86"
      },
      "execution_count": null,
      "outputs": [
        {
          "output_type": "stream",
          "name": "stdout",
          "text": [
            "count: 11\n",
            "Wikipedia: 1\n",
            "free: 1\n",
            "is: 19\n",
            "of: 25\n",
            "in: 11\n",
            "counting: 6\n",
            "may: 8\n",
            "needed: 1\n",
            "when: 2\n",
            "certain: 2\n",
            "numbers: 1\n",
            "particularly: 1\n",
            "legal: 1\n",
            "used: 4\n",
            "price: 1\n",
            "job: 1\n",
            "counts: 3\n",
            "calculate: 1\n",
            "readability: 1\n",
            "measure: 2\n",
            "typing: 1\n",
            "speeds: 1\n",
            "When: 1\n",
            "converting: 1\n",
            "characters: 2\n",
            "Contents: 1\n",
            "Details: 2\n",
            "Sources: 1\n",
            "links: 1\n",
            "references: 1\n",
            "Please: 1\n",
            "help: 1\n",
            "improve: 1\n",
            "this: 2\n",
            "material: 1\n",
            "removed: 1\n",
            "Variations: 1\n",
            "occur: 1\n",
            "namely: 2\n",
            "as: 9\n",
            "toward: 2\n",
            "However: 3\n",
            "especially: 1\n",
            "advent: 1\n",
            "widespread: 1\n",
            "there: 1\n",
            "broad: 1\n",
            "these: 2\n",
            "line: 3\n",
            "integer: 1\n",
            "result: 1\n",
            "The: 5\n",
            "rules: 5\n",
            "are: 4\n",
            "determined: 1\n",
            "depends: 1\n",
            "dividers: 1\n",
            "defined: 1\n",
            "space: 3\n",
            "whitespace: 1\n",
            "regular: 1\n",
            "an: 4\n",
            "em: 1\n",
            "divider: 1\n",
            "Usually: 1\n",
            "slash: 1\n",
            "Different: 1\n",
            "programs: 2\n",
            "give: 2\n",
            "results: 2\n",
            "depending: 2\n",
            "rule: 4\n",
            "details: 2\n",
            "footnotes: 2\n",
            "hidden: 2\n",
            "But: 2\n",
            "behavior: 1\n",
            "major: 1\n",
            "similar: 1\n",
            "during: 1\n",
            "school: 1\n",
            "assignments: 1\n",
            "handwriting: 1\n",
            "differed: 1\n",
            "but: 2\n",
            "sometimes: 1\n",
            "others: 1\n",
            "Hyphenated: 1\n",
            "permanent: 1\n",
            "noun: 1\n",
            "long: 1\n",
            "term: 1\n",
            "adjective: 1\n",
            "save: 1\n",
            "thumb: 1\n",
            "was: 1\n",
            "10: 1\n",
            "These: 1\n",
            "have: 1\n",
            "feature: 1\n",
            "follows: 1\n",
            "now: 1\n",
            "arbiter: 1\n",
            "consistent: 1\n",
            "documents: 1\n",
            "already: 1\n",
            "sections: 1\n",
            "abstracts: 1\n",
            "reference: 1\n",
            "bibliographies: 1\n",
            "figure: 1\n",
            "captions: 1\n",
            "person: 1\n",
            "charge: 1\n",
            "select: 1\n",
            "watch: 1\n",
            "update: 1\n",
            "browsers: 1\n",
            "support: 1\n",
            "via: 2\n",
            "extensions: 1\n",
            "JavaScript: 1\n",
            "script: 1\n",
            "website: 1\n",
            "like: 1\n",
            "systems: 1\n",
            "include: 1\n",
            "wc: 1\n",
            "different: 1\n",
            "thus: 1\n",
            "Jane: 1\n",
            "length: 5\n",
            "quality: 1\n",
            "novel: 4\n",
            "tremendously: 1\n",
            "typically: 1\n",
            "National: 1\n",
            "Novel: 2\n",
            "Month: 1\n",
            "at: 3\n",
            "no: 1\n",
            "boundary: 1\n",
            "novella: 1\n",
            "work: 1\n",
            "large: 1\n",
            "extent: 1\n",
            "subgenre: 1\n",
            "chapter: 1\n",
            "books: 1\n",
            "start: 1\n",
            "typical: 1\n",
            "mystery: 1\n",
            "thriller: 1\n",
            "Science: 1\n",
            "Fantasy: 1\n",
            "category: 1\n",
            "Nebula: 1\n",
            "award: 1\n",
            "Novelette: 1\n",
            "Short: 1\n",
            "story: 1\n",
            "academic: 1\n",
            "dependent: 1\n",
            "predominantly: 1\n",
            "subject: 1\n",
            "American: 1\n",
            "dissertations: 1\n",
            "exceeding: 1\n",
            "word: 24\n",
            "from: 2\n",
            "the: 38\n",
            "encyclopedia: 1\n",
            "number: 3\n",
            "words: 21\n",
            "a: 28\n",
            "document: 2\n",
            "or: 11\n",
            "passage: 1\n",
            "text: 8\n",
            "Word: 3\n",
            "be: 8\n",
            "required: 1\n",
            "to: 18\n",
            "stay: 1\n",
            "within: 1\n",
            "This: 2\n",
            "case: 1\n",
            "academia: 1\n",
            "proceedings: 1\n",
            "journalism: 1\n",
            "and: 23\n",
            "advertising: 1\n",
            "commonly: 1\n",
            "by: 5\n",
            "translators: 1\n",
            "determine: 1\n",
            "for: 10\n",
            "translation: 1\n",
            "also: 5\n",
            "measures: 1\n",
            "reading: 1\n",
            "usually: 3\n",
            "per: 3\n",
            "minute: 1\n",
            "character: 2\n",
            "five: 1\n",
            "six: 1\n",
            "generally: 2\n",
            "variations: 2\n",
            "definition: 3\n",
            "Software: 2\n",
            "In: 4\n",
            "fiction: 4\n",
            "non: 2\n",
            "See: 1\n",
            "References: 1\n",
            "External: 1\n",
            "section: 2\n",
            "does: 1\n",
            "not: 2\n",
            "cite: 1\n",
            "any: 2\n",
            "sources: 2\n",
            "adding: 1\n",
            "citations: 1\n",
            "reliable: 1\n",
            "Unsourced: 1\n",
            "challenged: 1\n",
            "operational: 2\n",
            "definitions: 3\n",
            "how: 3\n",
            "can: 5\n",
            "what: 1\n",
            "which: 4\n",
            "don't: 2\n",
            "total: 2\n",
            "since: 1\n",
            "processing: 4\n",
            "consensus: 3\n",
            "on: 7\n",
            "hence: 1\n",
            "bottom: 1\n",
            "accept: 1\n",
            "segmentation: 4\n",
            "found: 1\n",
            "most: 3\n",
            "software: 2\n",
            "including: 1\n",
            "boundaries: 1\n",
            "first: 1\n",
            "trait: 1\n",
            "that: 5\n",
            "various: 1\n",
            "such: 7\n",
            "tab: 1\n",
            "hyphen: 1\n",
            "too: 1\n",
            "varying: 2\n",
            "whether: 1\n",
            "outside: 1\n",
            "main: 1\n",
            "endnotes: 2\n",
            "text): 1\n",
            "counted: 2\n",
            "applications: 2\n",
            "broadly: 1\n",
            "era: 2\n",
            "were: 3\n",
            "done: 1\n",
            "with: 2\n",
            "typewriters: 1\n",
            "often: 3\n",
            "todays: 1\n",
            "Most: 2\n",
            "importantly: 1\n",
            "many: 2\n",
            "students: 2\n",
            "drilled: 1\n",
            "articles: 1\n",
            "conjunctions: 1\n",
            "example: 2\n",
            "some: 1\n",
            "prepositions: 1\n",
            "compounds: 1\n",
            "follow: 1\n",
            "up: 2\n",
            "one: 1\n",
            "To: 1\n",
            "time: 1\n",
            "effort: 1\n",
            "average: 1\n",
            "fallen: 1\n",
            "wayside: 1\n",
            "mentioned: 1\n",
            "earlier: 2\n",
            "standard: 1\n",
            "because: 2\n",
            "it: 2\n",
            "largely: 1\n",
            "across: 1\n",
            "fast: 1\n",
            "effortless: 1\n",
            "costless: 1\n",
            "included: 1\n",
            "application: 1\n",
            "As: 2\n",
            "lists: 2\n",
            "tables: 1\n",
            "teacher: 1\n",
            "client: 1\n",
            "define: 1\n",
            "their: 1\n",
            "choice: 1\n",
            "users: 1\n",
            "workers: 1\n",
            "simply: 1\n",
            "exclude: 1\n",
            "elements: 1\n",
            "accordingly: 1\n",
            "automatically: 1\n",
            "Modern: 1\n",
            "web: 1\n",
            "bookmarklet: 1\n",
            "hosted: 1\n",
            "processors: 1\n",
            "Unix: 1\n",
            "program: 1\n",
            "specifically: 1\n",
            "explained: 1\n",
            "exact: 1\n",
            "strict: 1\n",
            "requirement: 1\n",
            "variation: 1\n",
            "acceptable: 2\n",
            "Novelist: 1\n",
            "Smiley: 2\n",
            "suggests: 1\n",
            "important: 1\n",
            "novels: 3\n",
            "vary: 2\n",
            "being: 1\n",
            "between: 2\n",
            "while: 3\n",
            "Writing: 1\n",
            "requires: 1\n",
            "its: 3\n",
            "least: 1\n",
            "There: 1\n",
            "firm: 1\n",
            "arbitrary: 1\n",
            "literary: 1\n",
            "difficult: 1\n",
            "categorise: 1\n",
            "writer: 1\n",
            "lengths: 2\n",
            "children: 1\n",
            "about: 1\n",
            "might: 1\n",
            "range: 1\n",
            "could: 1\n",
            "over: 2\n",
            "Fiction: 1\n",
            "Writers: 1\n",
            "America: 1\n",
            "specifies: 1\n",
            "each: 1\n",
            "categories: 1\n",
            "Classification\tWord: 1\n",
            "Novella: 1\n",
            "under: 1\n",
            "dissertation: 1\n",
            "varies: 1\n",
            "greatly: 1\n",
            "Numerous: 1\n",
            "universities: 1\n",
            "limit: 2\n",
            "Ph.D.: 1\n",
            "barring: 1\n",
            "special: 1\n",
            "permission: 1\n"
          ]
        }
      ]
    },
    {
      "cell_type": "code",
      "source": [
        "#4"
      ],
      "metadata": {
        "id": "c3zBUzJt8n1h"
      },
      "execution_count": null,
      "outputs": []
    },
    {
      "cell_type": "code",
      "source": [
        "from pyspark.sql import SparkSession\n",
        "from pyspark.ml.classification import LogisticRegression\n",
        "from pyspark.ml.feature import PolynomialExpansion\n",
        "from pyspark.ml.feature import VectorAssembler\n",
        "from pyspark.ml.feature import StringIndexer\n",
        "from pyspark.sql.functions import col,when\n",
        "from pyspark.ml.feature import PCA\n",
        "from pyspark.ml.feature import Imputer\n",
        "spark = SparkSession.builder.appName(\"CLUSTERING\").getOrCreate()\n",
        "Data = spark.read.csv(\"seeds_dataset.txt\", sep=r'\\t', inferSchema=True)\n",
        "Data.show(5)\n",
        "\n",
        "\n"
      ],
      "metadata": {
        "colab": {
          "base_uri": "https://localhost:8080/"
        },
        "id": "i4v6l9Pr87Ri",
        "outputId": "9442ffa9-c795-421d-a772-79ba94ab504c"
      },
      "execution_count": null,
      "outputs": [
        {
          "output_type": "stream",
          "name": "stdout",
          "text": [
            "+-----+-----+------+-----+-----+-----+-----+---+\n",
            "|  _c0|  _c1|   _c2|  _c3|  _c4|  _c5|  _c6|_c7|\n",
            "+-----+-----+------+-----+-----+-----+-----+---+\n",
            "|15.26|14.84| 0.871|5.763|3.312|2.221| 5.22|1.0|\n",
            "|14.88|14.57|0.8811|5.554|3.333|1.018|4.956|1.0|\n",
            "|14.29|14.09| 0.905|5.291|3.337|2.699|4.825|1.0|\n",
            "|13.84|13.94|0.8955|5.324|3.379|2.259|4.805|1.0|\n",
            "|16.14|14.99|0.9034|5.658|3.562|1.355|5.175|1.0|\n",
            "+-----+-----+------+-----+-----+-----+-----+---+\n",
            "only showing top 5 rows\n",
            "\n"
          ]
        }
      ]
    },
    {
      "cell_type": "code",
      "source": [
        "Data.printSchema()"
      ],
      "metadata": {
        "colab": {
          "base_uri": "https://localhost:8080/"
        },
        "id": "oPgO6Fd19AAV",
        "outputId": "869f4b14-d493-4dc1-f75c-810139cbcdb8"
      },
      "execution_count": null,
      "outputs": [
        {
          "output_type": "stream",
          "name": "stdout",
          "text": [
            "root\n",
            " |-- _c0: double (nullable = true)\n",
            " |-- _c1: double (nullable = true)\n",
            " |-- _c2: double (nullable = true)\n",
            " |-- _c3: double (nullable = true)\n",
            " |-- _c4: double (nullable = true)\n",
            " |-- _c5: double (nullable = true)\n",
            " |-- _c6: double (nullable = true)\n",
            " |-- _c7: double (nullable = true)\n",
            "\n"
          ]
        }
      ]
    },
    {
      "cell_type": "code",
      "source": [
        "Data1 = Data.toDF(\"area\", \"perimeter\", \"compactness\", \"length of kernel\",  \"width of kernel\",\"asymmetry coefficient\" ,\"length of kernel groove\", \"wheat type\")\n",
        "Data1.show(100)"
      ],
      "metadata": {
        "colab": {
          "base_uri": "https://localhost:8080/"
        },
        "id": "O7Q6qakb9IXY",
        "outputId": "6c64e774-7bcc-43f6-c6df-2396b75c8f98"
      },
      "execution_count": null,
      "outputs": [
        {
          "output_type": "stream",
          "name": "stdout",
          "text": [
            "+-----+---------+-----------+----------------+---------------+---------------------+-----------------------+----------+\n",
            "| area|perimeter|compactness|length of kernel|width of kernel|asymmetry coefficient|length of kernel groove|wheat type|\n",
            "+-----+---------+-----------+----------------+---------------+---------------------+-----------------------+----------+\n",
            "|15.26|    14.84|      0.871|           5.763|          3.312|                2.221|                   5.22|       1.0|\n",
            "|14.88|    14.57|     0.8811|           5.554|          3.333|                1.018|                  4.956|       1.0|\n",
            "|14.29|    14.09|      0.905|           5.291|          3.337|                2.699|                  4.825|       1.0|\n",
            "|13.84|    13.94|     0.8955|           5.324|          3.379|                2.259|                  4.805|       1.0|\n",
            "|16.14|    14.99|     0.9034|           5.658|          3.562|                1.355|                  5.175|       1.0|\n",
            "|14.38|    14.21|     0.8951|           5.386|          3.312|                2.462|                  4.956|       1.0|\n",
            "|14.69|    14.49|     0.8799|           5.563|          3.259|                3.586|                  5.219|       1.0|\n",
            "|14.11|     14.1|     0.8911|            5.42|          3.302|                  2.7|                   null|       5.0|\n",
            "|16.63|    15.46|     0.8747|           6.053|          3.465|                 2.04|                  5.877|       1.0|\n",
            "|16.44|    15.25|      0.888|           5.884|          3.505|                1.969|                  5.533|       1.0|\n",
            "|15.26|    14.85|     0.8696|           5.714|          3.242|                4.543|                  5.314|       1.0|\n",
            "|14.03|    14.16|     0.8796|           5.438|          3.201|                1.717|                  5.001|       1.0|\n",
            "|13.89|    14.02|      0.888|           5.439|          3.199|                3.986|                  4.738|       1.0|\n",
            "|13.78|    14.06|     0.8759|           5.479|          3.156|                3.136|                  4.872|       1.0|\n",
            "|13.74|    14.05|     0.8744|           5.482|          3.114|                2.932|                  4.825|       1.0|\n",
            "|14.59|    14.28|     0.8993|           5.351|          3.333|                4.185|                  4.781|       1.0|\n",
            "|13.99|    13.83|     0.9183|           5.119|          3.383|                5.234|                  4.781|       1.0|\n",
            "|15.69|    14.75|     0.9058|           5.527|          3.514|                1.599|                  5.046|       1.0|\n",
            "| 14.7|    14.21|     0.9153|           5.205|          3.466|                1.767|                  4.649|       1.0|\n",
            "|12.72|    13.57|     0.8686|           5.226|          3.049|                4.102|                  4.914|       1.0|\n",
            "|14.16|     14.4|     0.8584|           5.658|          3.129|                3.072|                  5.176|       1.0|\n",
            "|14.11|    14.26|     0.8722|            5.52|          3.168|                2.688|                  5.219|       1.0|\n",
            "|15.88|     14.9|     0.8988|           5.618|          3.507|               0.7651|                  5.091|       1.0|\n",
            "|12.08|    13.23|     0.8664|           5.099|          2.936|                1.415|                  4.961|       1.0|\n",
            "|15.01|    14.76|     0.8657|           5.789|          3.245|                1.791|                  5.001|       1.0|\n",
            "|16.19|    15.16|     0.8849|           5.833|          3.421|                0.903|                  5.307|       1.0|\n",
            "|13.02|    13.76|     0.8641|           5.395|          3.026|                3.373|                  4.825|       1.0|\n",
            "|12.74|    13.67|     0.8564|           5.395|          2.956|                2.504|                  4.869|       1.0|\n",
            "|14.11|    14.18|      0.882|           5.541|          3.221|                2.754|                  5.038|       1.0|\n",
            "|13.45|    14.02|     0.8604|           5.516|          3.065|                3.531|                  5.097|       1.0|\n",
            "|13.16|    13.82|     0.8662|           5.454|          2.975|               0.8551|                  5.056|       1.0|\n",
            "|15.49|    14.94|     0.8724|           5.757|          3.371|                3.412|                  5.228|       1.0|\n",
            "|14.09|    14.41|     0.8529|           5.717|          3.186|                 3.92|                  5.299|       1.0|\n",
            "|13.94|    14.17|     0.8728|           5.585|           3.15|                2.124|                  5.012|       1.0|\n",
            "|15.05|    14.68|     0.8779|           5.712|          3.328|                2.129|                   5.36|       1.0|\n",
            "|16.12|     15.0|       null|             0.9|           null|                5.709|                  3.485|      2.27|\n",
            "| 16.2|    15.27|     0.8734|           5.826|          3.464|                2.823|                  5.527|       1.0|\n",
            "|17.08|    15.38|     0.9079|           5.832|          3.683|                2.956|                  5.484|       1.0|\n",
            "| 14.8|    14.52|     0.8823|           5.656|          3.288|                3.112|                  5.309|       1.0|\n",
            "|14.28|    14.17|     0.8944|           5.397|          3.298|                6.685|                  5.001|       1.0|\n",
            "|13.54|    13.85|     0.8871|           5.348|          3.156|                2.587|                  5.178|       1.0|\n",
            "| 13.5|    13.85|     0.8852|           5.351|          3.158|                2.249|                  5.176|       1.0|\n",
            "|13.16|    13.55|     0.9009|           5.138|          3.201|                2.461|                  4.783|       1.0|\n",
            "| 15.5|    14.86|      0.882|           5.877|          3.396|                4.711|                  5.528|       1.0|\n",
            "|15.11|    14.54|     0.8986|           5.579|          3.462|                3.128|                   5.18|       1.0|\n",
            "| 13.8|    14.04|     0.8794|           5.376|          3.155|                 1.56|                  4.961|       1.0|\n",
            "|15.36|    14.76|     0.8861|           5.701|          3.393|                1.367|                  5.132|       1.0|\n",
            "|14.99|    14.56|     0.8883|            5.57|          3.377|                2.958|                  5.175|       1.0|\n",
            "|14.79|    14.52|     0.8819|           5.545|          3.291|                2.704|                  5.111|       1.0|\n",
            "|14.86|    14.67|     0.8676|           5.678|          3.258|                2.129|                  5.351|       1.0|\n",
            "|14.43|     14.4|     0.8751|           5.585|          3.272|                3.975|                  5.144|       1.0|\n",
            "|15.78|    14.91|     0.8923|           5.674|          3.434|                5.593|                  5.136|       1.0|\n",
            "|14.49|    14.61|     0.8538|           5.715|          3.113|                4.116|                  5.396|       1.0|\n",
            "|14.33|    14.28|     0.8831|           5.504|          3.199|                3.328|                  5.224|       1.0|\n",
            "|14.52|     14.6|     0.8557|           5.741|          3.113|                1.481|                  5.487|       1.0|\n",
            "|15.03|    14.77|     0.8658|           5.702|          3.212|                1.933|                  5.439|       1.0|\n",
            "|14.46|    14.35|     0.8818|           5.388|          3.377|                2.802|                  5.044|       1.0|\n",
            "|14.92|    14.43|     0.9006|           5.384|          3.412|                1.142|                  5.088|       1.0|\n",
            "|15.38|    14.77|     0.8857|           5.662|          3.419|                1.999|                  5.222|       1.0|\n",
            "|12.11|    13.47|     0.8392|           5.159|          3.032|                1.502|                  4.519|       1.0|\n",
            "|11.42|    12.86|     0.8683|           5.008|           2.85|                  2.7|                   null|     4.607|\n",
            "|11.23|    12.63|      0.884|           4.902|          2.879|                2.269|                  4.703|       1.0|\n",
            "|12.36|    13.19|     0.8923|           5.076|          3.042|                 3.22|                  4.605|       1.0|\n",
            "|13.22|    13.84|      0.868|           5.395|           3.07|                4.157|                  5.088|       1.0|\n",
            "|12.78|    13.57|     0.8716|           5.262|          3.026|                1.176|                  4.782|       1.0|\n",
            "|12.88|     13.5|     0.8879|           5.139|          3.119|                2.352|                  4.607|       1.0|\n",
            "|14.34|    14.37|     0.8726|            5.63|           3.19|                1.313|                   5.15|       1.0|\n",
            "|14.01|    14.29|     0.8625|           5.609|          3.158|                2.217|                  5.132|       1.0|\n",
            "|14.37|    14.39|     0.8726|           5.569|          3.153|                1.464|                    5.3|      null|\n",
            "|12.73|    13.75|     0.8458|           5.412|          2.882|                3.533|                  5.067|       1.0|\n",
            "|17.63|    15.98|     0.8673|           6.191|          3.561|                4.076|                   6.06|       2.0|\n",
            "|16.84|    15.67|     0.8623|           5.998|          3.484|                4.675|                  5.877|       2.0|\n",
            "|17.26|    15.73|     0.8763|           5.978|          3.594|                4.539|                  5.791|       2.0|\n",
            "|19.11|    16.26|     0.9081|           6.154|           3.93|                2.936|                  6.079|       2.0|\n",
            "|16.82|    15.51|     0.8786|           6.017|          3.486|                4.004|                  5.841|       2.0|\n",
            "|16.77|    15.62|     0.8638|           5.927|          3.438|                 4.92|                  5.795|       2.0|\n",
            "|17.32|    15.91|     0.8599|           6.064|          3.403|                3.824|                  5.922|       2.0|\n",
            "|20.71|    17.23|     0.8763|           6.579|          3.814|                4.451|                  6.451|       2.0|\n",
            "|18.94|    16.49|      0.875|           6.445|          3.639|                5.064|                  6.362|       2.0|\n",
            "|17.12|    15.55|     0.8892|            5.85|          3.566|                2.858|                  5.746|       2.0|\n",
            "|16.53|    15.34|     0.8823|           5.875|          3.467|                5.532|                   5.88|       2.0|\n",
            "|18.72|    16.19|     0.8977|           6.006|          3.857|                5.324|                  5.879|       2.0|\n",
            "| 20.2|    16.89|     0.8894|           6.285|          3.864|                5.173|                  6.187|       2.0|\n",
            "|19.57|    16.74|     0.8779|           6.384|          3.772|                1.472|                  6.273|       2.0|\n",
            "|19.51|    16.71|      0.878|           6.366|          3.801|                2.962|                  6.185|       2.0|\n",
            "|18.27|    16.09|      0.887|           6.173|          3.651|                2.443|                  6.197|       2.0|\n",
            "|18.88|    16.26|     0.8969|           6.084|          3.764|                1.649|                  6.109|       2.0|\n",
            "|18.98|    16.66|      0.859|           6.549|           3.67|                3.691|                  6.498|       2.0|\n",
            "|21.18|    17.21|     0.8989|           6.573|          4.033|                 5.78|                  6.231|       2.0|\n",
            "|20.88|    17.05|     0.9031|            6.45|          4.032|                5.016|                  6.321|       2.0|\n",
            "| 20.1|    16.99|     0.8746|           6.581|          3.785|                1.955|                  6.449|       2.0|\n",
            "|18.76|     16.2|     0.8984|           6.172|          3.796|                 3.12|                  6.053|       2.0|\n",
            "|18.81|    16.29|     0.8906|           6.272|          3.693|                3.237|                  6.053|       2.0|\n",
            "|18.59|    16.05|     0.9066|           6.037|           3.86|                6.001|                  5.877|       2.0|\n",
            "|18.36|    16.52|     0.8452|           6.666|          3.485|                4.933|                  6.448|       2.0|\n",
            "|16.87|    15.65|     0.8648|           6.139|          3.463|                3.696|                  5.967|       2.0|\n",
            "|19.31|    16.59|     0.8815|           6.341|           3.81|                3.477|                  6.238|       2.0|\n",
            "|18.98|    16.57|     0.8687|           6.449|          3.552|                2.144|                  6.453|       2.0|\n",
            "|18.17|    16.26|     0.8637|           6.271|          3.512|                2.853|                  6.273|       2.0|\n",
            "|18.72|    16.34|      0.881|           6.219|          3.684|                2.188|                  6.097|       2.0|\n",
            "+-----+---------+-----------+----------------+---------------+---------------------+-----------------------+----------+\n",
            "only showing top 100 rows\n",
            "\n"
          ]
        }
      ]
    },
    {
      "cell_type": "code",
      "source": [
        "from pyspark.ml.feature import VectorAssembler\n",
        "from pyspark.ml.clustering import KMeans\n",
        "from pyspark.ml.feature import Imputer\n",
        "imputer = Imputer(inputCols = Data1.columns, outputCols=Data1.columns).setStrategy('mean')\n",
        "Data2=imputer.fit(Data1).transform(Data1)\n",
        "Data2.describe().show()"
      ],
      "metadata": {
        "colab": {
          "base_uri": "https://localhost:8080/"
        },
        "id": "z7wjcrVN9KqO",
        "outputId": "12f02b1f-c223-426f-8fce-c61ae4cb6fb9"
      },
      "execution_count": null,
      "outputs": [
        {
          "output_type": "stream",
          "name": "stdout",
          "text": [
            "+-------+------------------+------------------+-------------------+------------------+------------------+---------------------+-----------------------+------------------+\n",
            "|summary|              area|         perimeter|        compactness|  length of kernel|   width of kernel|asymmetry coefficient|length of kernel groove|        wheat type|\n",
            "+-------+------------------+------------------+-------------------+------------------+------------------+---------------------+-----------------------+------------------+\n",
            "|  count|               210|               210|                210|               210|               210|                  210|                    210|               210|\n",
            "|   mean|14.847523809523816|14.559285714285718| 0.8712797101449274| 5.563918095238097|  3.28144019138756|   3.6935295238095227|      5.407529126213593|2.0840388349514565|\n",
            "| stddev|2.9096994306873647|1.3059587265640225|0.02313796718114277|0.7195936127550641|0.4189014084048897|   1.4951121686440525|     0.5272113660788166|0.9390938513649153|\n",
            "|    min|             10.59|             12.41|             0.8081|            0.8189|              2.63|               0.7651|                  3.485|               1.0|\n",
            "|    max|             21.18|             17.25|             0.9183|             6.675|             5.325|                8.456|                  6.735|             5.439|\n",
            "+-------+------------------+------------------+-------------------+------------------+------------------+---------------------+-----------------------+------------------+\n",
            "\n"
          ]
        }
      ]
    },
    {
      "cell_type": "code",
      "source": [
        "Data2.groupBy(\"wheat type\").count().show()"
      ],
      "metadata": {
        "colab": {
          "base_uri": "https://localhost:8080/"
        },
        "id": "F8clS5aL9OAq",
        "outputId": "e918438b-f934-4f8e-b814-288d28a6d6de"
      },
      "execution_count": null,
      "outputs": [
        {
          "output_type": "stream",
          "name": "stdout",
          "text": [
            "+------------------+-----+\n",
            "|        wheat type|count|\n",
            "+------------------+-----+\n",
            "|             5.088|    1|\n",
            "|              2.27|    1|\n",
            "|               1.0|   66|\n",
            "|             5.163|    1|\n",
            "|             5.439|    1|\n",
            "|             4.745|    1|\n",
            "|             4.607|    1|\n",
            "|               3.0|   65|\n",
            "|               2.0|   68|\n",
            "|               5.0|    1|\n",
            "|2.0840388349514565|    4|\n",
            "+------------------+-----+\n",
            "\n"
          ]
        }
      ]
    },
    {
      "cell_type": "code",
      "source": [
        "Assembler = VectorAssembler(inputCols=[\"area\", \"perimeter\", \"compactness\", \"length of kernel\",  \"width of kernel\",\n",
        "  \"asymmetry coefficient\" ,\"length of kernel groove\"],outputCol=\"features\")"
      ],
      "metadata": {
        "id": "aBAe55MK9QPY"
      },
      "execution_count": null,
      "outputs": []
    },
    {
      "cell_type": "code",
      "source": [
        "Assembled = Assembler.transform(Data2)\n",
        "Assembled.show(5, truncate=False)"
      ],
      "metadata": {
        "colab": {
          "base_uri": "https://localhost:8080/"
        },
        "id": "RkFOeeWO9SZ_",
        "outputId": "db9a92a4-ed2d-4c81-ee57-3f9165e50bb9"
      },
      "execution_count": null,
      "outputs": [
        {
          "output_type": "stream",
          "name": "stdout",
          "text": [
            "+-----+---------+-----------+----------------+---------------+---------------------+-----------------------+----------+--------------------------------------------+\n",
            "|area |perimeter|compactness|length of kernel|width of kernel|asymmetry coefficient|length of kernel groove|wheat type|features                                    |\n",
            "+-----+---------+-----------+----------------+---------------+---------------------+-----------------------+----------+--------------------------------------------+\n",
            "|15.26|14.84    |0.871      |5.763           |3.312          |2.221                |5.22                   |1.0       |[15.26,14.84,0.871,5.763,3.312,2.221,5.22]  |\n",
            "|14.88|14.57    |0.8811     |5.554           |3.333          |1.018                |4.956                  |1.0       |[14.88,14.57,0.8811,5.554,3.333,1.018,4.956]|\n",
            "|14.29|14.09    |0.905      |5.291           |3.337          |2.699                |4.825                  |1.0       |[14.29,14.09,0.905,5.291,3.337,2.699,4.825] |\n",
            "|13.84|13.94    |0.8955     |5.324           |3.379          |2.259                |4.805                  |1.0       |[13.84,13.94,0.8955,5.324,3.379,2.259,4.805]|\n",
            "|16.14|14.99    |0.9034     |5.658           |3.562          |1.355                |5.175                  |1.0       |[16.14,14.99,0.9034,5.658,3.562,1.355,5.175]|\n",
            "+-----+---------+-----------+----------------+---------------+---------------------+-----------------------+----------+--------------------------------------------+\n",
            "only showing top 5 rows\n",
            "\n"
          ]
        }
      ]
    },
    {
      "cell_type": "code",
      "source": [
        "from pyspark.ml.evaluation import ClusteringEvaluator\n",
        "evaluator =ClusteringEvaluator(featuresCol='features', metricName ='silhouette' )\n",
        "silhouette_score =[]\n",
        "for i in range(2,12):\n",
        "  kmeans = KMeans(featuresCol='features', k=i)\n",
        "  kmeans1 =kmeans.fit(Assembled)\n",
        "  kmeans2 = kmeans1.transform(Assembled)\n",
        "  kmeans3 = evaluator.evaluate(kmeans2)\n",
        "  silhouette_score.append(kmeans3)\n",
        "for score in silhouette_score:\n",
        "  print(score)\n",
        "\n",
        "\n",
        "\n",
        "import matplotlib.pyplot as plt\n",
        "import numpy as np\n",
        "plt.plot(np.arange(2,12), silhouette_score , color ='r')\n",
        "plt.show()"
      ],
      "metadata": {
        "colab": {
          "base_uri": "https://localhost:8080/",
          "height": 439
        },
        "id": "yqsj-OcT9UbW",
        "outputId": "83e81b39-1e6d-4b78-8a8f-2657ba275373"
      },
      "execution_count": null,
      "outputs": [
        {
          "output_type": "stream",
          "name": "stdout",
          "text": [
            "0.7057647595953718\n",
            "0.6337847408588617\n",
            "0.5612121076018618\n",
            "0.5006108210156179\n",
            "0.5826992140662663\n",
            "0.5404395975005846\n",
            "0.52641560229196\n",
            "0.5027651576813895\n",
            "0.4978449046354118\n",
            "0.47984674565816315\n"
          ]
        },
        {
          "output_type": "display_data",
          "data": {
            "text/plain": [
              "<Figure size 432x288 with 1 Axes>"
            ],
            "image/png": "[encoded data removed]"
          },
          "metadata": {
            "needs_background": "light"
          }
        }
      ]
    },
    {
      "cell_type": "code",
      "source": [
        "KMean = KMeans(featuresCol='features', k= 5)\n",
        "KMeans_Model = KMean.fit(Assembled)\n",
        "KMeans_Assignments =KMeans_Model.transform(Assembled)\n",
        "predict = KMeans_Assignments"
      ],
      "metadata": {
        "id": "q3oMGiMC9WjT"
      },
      "execution_count": null,
      "outputs": []
    },
    {
      "cell_type": "code",
      "source": [
        "from pyspark.ml.feature import PCA\n",
        "pca = PCA(k=2, inputCol=\"features\", outputCol=\"pca\")\n",
        "pca_model = pca.fit(Assembled)\n",
        "pca_transformed = pca_model.transform(Assembled)\n",
        "\n",
        "import numpy as np\n",
        "x_pca = np.array(pca_transformed.rdd.map(lambda row: row.pca).collect())\n",
        "\n",
        "cluster_assignment = np.array(KMeans_Assignments.rdd.map(lambda row: row.prediction).collect()).reshape(-1,1)\n",
        "import seaborn as sns\n",
        "import matplotlib.pyplot as plt\n",
        "\n",
        "pca_data = np.hstack((x_pca,cluster_assignment))\n",
        "import pandas as pd\n",
        "pca_df = pd.DataFrame(data=pca_data, columns=(\"1st_principal\", \"2nd_principal\",\"cluster_assignment\"))\n",
        "sns.FacetGrid(pca_df,hue=\"cluster_assignment\", height=6).map(plt.scatter, '1st_principal', '2nd_principal' ).add_legend()\n",
        "\n",
        "plt.show()"
      ],
      "metadata": {
        "colab": {
          "base_uri": "https://localhost:8080/",
          "height": 441
        },
        "id": "_6R_250z9ZCm",
        "outputId": "1f9839bd-831c-41a4-c6fe-4269917d461e"
      },
      "execution_count": null,
      "outputs": [
        {
          "output_type": "display_data",
          "data": {
            "text/plain": [
              "<Figure size 537.375x432 with 1 Axes>"
            ],
            "image/png": "[encoded data removed]"
          },
          "metadata": {
            "needs_background": "light"
          }
        }
      ]
    },
    {
      "cell_type": "code",
      "source": [
        "from pyspark.ml.clustering import GaussianMixture\n",
        "dataset = Data2.select(\"area\", \"perimeter\", \"compactness\", \"length of kernel\",  \"width of kernel\", \"asymmetry coefficient\" ,\"length of kernel groove\")\n",
        "dataset1= Assembled.select(\"features\")\n",
        "gmm = GaussianMixture().setK(3)\n",
        "\n",
        "\n",
        "model = gmm.fit(dataset1)\n",
        "print(\"Gaussians shown as a DataFrame: \")\n",
        "model.gaussiansDF.show(truncate=False)"
      ],
      "metadata": {
        "colab": {
          "base_uri": "https://localhost:8080/"
        },
        "id": "AwvD7ETt9bJ6",
        "outputId": "45193047-794f-4c60-896a-fbbf867d87c6"
      },
      "execution_count": null,
      "outputs": [
        {
          "output_type": "stream",
          "name": "stdout",
          "text": [
            "Gaussians shown as a DataFrame: \n",
            "+-----------------------------------------------------------------------------------------------------------------------------------+-----------------------------------------------------------------------------------------------------------------------------------------------------------------------------------------------------------------------------------------------------------------------------------------------------------------------------------------------------------------------------+\n",
            "|mean                                                                                                                               |cov                                                                                                                                                                                                                                                                                                                                                                          |\n",
            "+-----------------------------------------------------------------------------------------------------------------------------------+-----------------------------------------------------------------------------------------------------------------------------------------------------------------------------------------------------------------------------------------------------------------------------------------------------------------------------------------------------------------------------+\n",
            "|[18.997724272781756,16.389233253268564,0.8880977331851345,6.138173504893886,3.794058271135817,3.473116704412416,6.075299965681678] |1.5669912534742736    0.6947705070680776      ... (7 total)\\n0.6947705070680776    0.32267472861937274     ...\\n8.265716535890032E-5  -0.0015250828948863617  ...\\n0.8133543769862226    0.37084793886038886     ...\\n-0.08403093097053346  -0.04281812173411497    ...\\n0.33076865068987416   0.12613807501934945     ...\\n0.2585114377958235    0.1301962064887148      ...|\n",
            "|[12.054183427070425,13.311080936888175,0.854170923367422,5.182215472189643,2.9084250104838367,4.352554455496321,5.0776085325428495]|0.6564054856159546     0.2806612614917265     ... (7 total)\\n0.2806612614917265     0.14081086656064018    ...\\n0.009305718581963367   0.0013662059204597671  ...\\n0.02451908806862864    0.024181970603202648   ...\\n0.08916773319426025    0.03014778824730982    ...\\n-0.15932087968081202   -0.039658529687402536  ...\\n-0.018553270904746382  0.00807702250809444    ...|\n",
            "|[15.30145461148207,14.778012663782551,0.8796217960320383,5.621328727868825,3.3689490732878506,3.0958200016480055,5.346307473261657]|1.4804381198421033    0.7249030773483632      ... (7 total)\\n0.7249030773483632    0.37154949748194804     ...\\n-0.00262472596871837  -0.0032106286173162594  ...\\n0.40705474800289143   0.20910960172594012     ...\\n0.060648063278579474  0.025922482086653847    ...\\n0.4266738498505196    0.22157622355410944     ...\\n0.36205887312804785   0.20077126834123885     ...|\n",
            "+-----------------------------------------------------------------------------------------------------------------------------------+-----------------------------------------------------------------------------------------------------------------------------------------------------------------------------------------------------------------------------------------------------------------------------------------------------------------------------------------------------------------------------+\n",
            "\n"
          ]
        }
      ]
    },
    {
      "cell_type": "code",
      "source": [
        "#number 5"
      ],
      "metadata": {
        "id": "lUCIwk7X9dYC"
      },
      "execution_count": null,
      "outputs": []
    },
    {
      "cell_type": "code",
      "source": [
        "df = spark.read.csv(\"mcar.txt\", header=True, inferSchema=True)\n",
        "df.show()"
      ],
      "metadata": {
        "colab": {
          "base_uri": "https://localhost:8080/"
        },
        "id": "q0-_cIHb9gNZ",
        "outputId": "1d188955-ce7d-416e-8de5-75cdaef98154"
      },
      "execution_count": null,
      "outputs": [
        {
          "output_type": "stream",
          "name": "stdout",
          "text": [
            "+-------------------+----+---+-----+---+----+-----+-----+---+---+----+----+\n",
            "|                car| mpg|cyl| disp| hp|drat|   wt| qsec| vs| am|gear|carb|\n",
            "+-------------------+----+---+-----+---+----+-----+-----+---+---+----+----+\n",
            "|          Mazda RX4|21.0|  6|160.0|110| 3.9| 2.62|16.46|  0|  1|   4|   4|\n",
            "|      Mazda RX4 Wag|21.0|  6|160.0|110| 3.9|2.875|17.02|  0|  1|   4|   4|\n",
            "|         Datsun 710|22.8|  4|108.0| 93|3.85| 2.32|18.61|  1|  1|   4|   1|\n",
            "|     Hornet 4 Drive|21.4|  6|258.0|110|3.08|3.215|19.44|  1|  0|   3|   1|\n",
            "|  Hornet Sportabout|18.7|  8|360.0|175|3.15| 3.44|17.02|  0|  0|   3|   2|\n",
            "|            Valiant|18.1|  6|225.0|105|2.76| 3.46|20.22|  1|  0|   3|   1|\n",
            "|         Duster 360|14.3|  8|360.0|245|3.21| 3.57|15.84|  0|  0|   3|   4|\n",
            "|          Merc 240D|24.4|  4|146.7| 62|3.69| 3.19| 20.0|  1|  0|   4|   2|\n",
            "|           Merc 230|22.8|  4|140.8| 95|3.92| 3.15| 22.9|  1|  0|   4|   2|\n",
            "|           Merc 280|19.2|  6|167.6|123|3.92| 3.44| 18.3|  1|  0|   4|   4|\n",
            "|          Merc 280C|17.8|  6|167.6|123|3.92| 3.44| 18.9|  1|  0|   4|   4|\n",
            "|         Merc 450SE|16.4|  8|275.8|180|3.07| 4.07| 17.4|  0|  0|   3|   3|\n",
            "|         Merc 450SL|17.3|  8|275.8|180|3.07| 3.73| 17.6|  0|  0|   3|   3|\n",
            "|        Merc 450SLC|15.2|  8|275.8|180|3.07| 3.78| 18.0|  0|  0|   3|   3|\n",
            "| Cadillac Fleetwood|10.4|  8|472.0|205|2.93| 5.25|17.98|  0|  0|   3|   4|\n",
            "|Lincoln Continental|10.4|  8|460.0|215| 3.0|5.424|17.82|  0|  0|   3|   4|\n",
            "|  Chrysler Imperial|14.7|  8|440.0|230|3.23|5.345|17.42|  0|  0|   3|   4|\n",
            "|           Fiat 128|32.4|  4| 78.7| 66|4.08|  2.2|19.47|  1|  1|   4|   1|\n",
            "|        Honda Civic|30.4|  4| 75.7| 52|4.93|1.615|18.52|  1|  1|   4|   2|\n",
            "|     Toyota Corolla|33.9|  4| 71.1| 65|4.22|1.835| 19.9|  1|  1|   4|   1|\n",
            "+-------------------+----+---+-----+---+----+-----+-----+---+---+----+----+\n",
            "only showing top 20 rows\n",
            "\n"
          ]
        }
      ]
    },
    {
      "cell_type": "code",
      "source": [
        "df = df.filter(\"mpg < 18\")\n",
        "df.show()"
      ],
      "metadata": {
        "colab": {
          "base_uri": "https://localhost:8080/"
        },
        "id": "FUz6LOOJ9iib",
        "outputId": "c4782852-e449-42d4-b757-65f39546b299"
      },
      "execution_count": null,
      "outputs": [
        {
          "output_type": "stream",
          "name": "stdout",
          "text": [
            "+-------------------+----+---+-----+---+----+-----+-----+---+---+----+----+\n",
            "|                car| mpg|cyl| disp| hp|drat|   wt| qsec| vs| am|gear|carb|\n",
            "+-------------------+----+---+-----+---+----+-----+-----+---+---+----+----+\n",
            "|         Duster 360|14.3|  8|360.0|245|3.21| 3.57|15.84|  0|  0|   3|   4|\n",
            "|          Merc 280C|17.8|  6|167.6|123|3.92| 3.44| 18.9|  1|  0|   4|   4|\n",
            "|         Merc 450SE|16.4|  8|275.8|180|3.07| 4.07| 17.4|  0|  0|   3|   3|\n",
            "|         Merc 450SL|17.3|  8|275.8|180|3.07| 3.73| 17.6|  0|  0|   3|   3|\n",
            "|        Merc 450SLC|15.2|  8|275.8|180|3.07| 3.78| 18.0|  0|  0|   3|   3|\n",
            "| Cadillac Fleetwood|10.4|  8|472.0|205|2.93| 5.25|17.98|  0|  0|   3|   4|\n",
            "|Lincoln Continental|10.4|  8|460.0|215| 3.0|5.424|17.82|  0|  0|   3|   4|\n",
            "|  Chrysler Imperial|14.7|  8|440.0|230|3.23|5.345|17.42|  0|  0|   3|   4|\n",
            "|   Dodge Challenger|15.5|  8|318.0|150|2.76| 3.52|16.87|  0|  0|   3|   2|\n",
            "|        AMC Javelin|15.2|  8|304.0|150|3.15|3.435| 17.3|  0|  0|   3|   2|\n",
            "|         Camaro Z28|13.3|  8|350.0|245|3.73| 3.84|15.41|  0|  0|   3|   4|\n",
            "|     Ford Pantera L|15.8|  8|351.0|264|4.22| 3.17| 14.5|  0|  1|   5|   4|\n",
            "|      Maserati Bora|15.0|  8|301.0|335|3.54| 3.57| 14.6|  0|  1|   5|   8|\n",
            "+-------------------+----+---+-----+---+----+-----+-----+---+---+----+----+\n",
            "\n"
          ]
        }
      ]
    },
    {
      "cell_type": "code",
      "source": [
        "df.groupBy(\"cyl\").avg(\"wt\").show()"
      ],
      "metadata": {
        "colab": {
          "base_uri": "https://localhost:8080/"
        },
        "id": "YkAesqTb9m03",
        "outputId": "18036690-dfff-45c0-baed-57220bd7dd07"
      },
      "execution_count": null,
      "outputs": [
        {
          "output_type": "stream",
          "name": "stdout",
          "text": [
            "+---+-----------------+\n",
            "|cyl|          avg(wt)|\n",
            "+---+-----------------+\n",
            "|  6|             3.44|\n",
            "|  8|4.058666666666666|\n",
            "+---+-----------------+\n",
            "\n"
          ]
        }
      ]
    },
    {
      "cell_type": "code",
      "source": [
        "df.select(\"gear\").where(\"cyl >= 4 and cyl <= 9\").show()"
      ],
      "metadata": {
        "colab": {
          "base_uri": "https://localhost:8080/"
        },
        "id": "Njg0I8FV9njf",
        "outputId": "c2d37127-95ad-43b3-cf12-ac89b76f42ea"
      },
      "execution_count": null,
      "outputs": [
        {
          "output_type": "stream",
          "name": "stdout",
          "text": [
            "+----+\n",
            "|gear|\n",
            "+----+\n",
            "|   3|\n",
            "|   4|\n",
            "|   3|\n",
            "|   3|\n",
            "|   3|\n",
            "|   3|\n",
            "|   3|\n",
            "|   3|\n",
            "|   3|\n",
            "|   3|\n",
            "|   3|\n",
            "|   5|\n",
            "|   5|\n",
            "+----+\n",
            "\n"
          ]
        }
      ]
    },
    {
      "cell_type": "code",
      "source": [
        "#number 6"
      ],
      "metadata": {
        "id": "Hs0HADfc9pUB"
      },
      "execution_count": null,
      "outputs": []
    },
    {
      "cell_type": "code",
      "source": [
        "from pyspark.ml.feature import HashingTF, IDF, Tokenizer\n",
        "shake = spark.read.text(\"shakespeare.txt\")\n",
        "tokenizer = Tokenizer(inputCol=\"value\", outputCol=\"words\")\n",
        "wordsData = tokenizer.transform(shake)\n",
        "hashing_dataframe = HashingTF(inputCol=\"words\", outputCol=\"features_out\", numFeatures=20)\n",
        "featurizedData = hashing_dataframe.transform(wordsData)\n",
        "idf = IDF(inputCol=\"features_out\", outputCol=\"features\")\n",
        "model_idf = idf.fit(featurizedData)\n",
        "dataScaled = model_idf.transform(featurizedData)\n",
        "dataScaled.select(\"features\").show()\n"
      ],
      "metadata": {
        "colab": {
          "base_uri": "https://localhost:8080/"
        },
        "id": "IPqLlfhy9sl4",
        "outputId": "5f9615ae-82c9-4947-c432-6fe8659a8187"
      },
      "execution_count": null,
      "outputs": [
        {
          "output_type": "stream",
          "name": "stdout",
          "text": [
            "+--------------------+\n",
            "|            features|\n",
            "+--------------------+\n",
            "|(20,[1,8,9,10,11,...|\n",
            "|(20,[0,1,3,7,8,9,...|\n",
            "|(20,[3,8,10,11,12...|\n",
            "|(20,[0,3,5,7,10,1...|\n",
            "|(20,[12],[0.03019...|\n",
            "|(20,[15],[1.01582...|\n",
            "|(20,[12],[0.03019...|\n",
            "|(20,[1,5,6,8,9,12...|\n",
            "|(20,[12],[0.03019...|\n",
            "|(20,[5,8,10,11,12...|\n",
            "|(20,[0,1,3,5,8,9,...|\n",
            "|(20,[1,3,10,11,15...|\n",
            "|(20,[0,3,8,10,11,...|\n",
            "|(20,[0,1,2,3,4,9,...|\n",
            "|(20,[1,2,3,5,8,11...|\n",
            "|(20,[1,3,4,9,12,1...|\n",
            "|(20,[0,1,2,4,12,1...|\n",
            "|(20,[12],[0.03019...|\n",
            "|(20,[0,1,3,8,9,10...|\n",
            "|(20,[3,5,10,12,13...|\n",
            "+--------------------+\n",
            "only showing top 20 rows\n",
            "\n"
          ]
        }
      ]
    },
    {
      "cell_type": "code",
      "source": [
        "#6.b\n",
        "from pyspark.ml.feature import Word2Vec\n",
        "\n",
        "word2Vec = Word2Vec(vectorSize=3, minCount=0, inputCol=\"rows\", outputCol=\"result\")\n",
        "shake = spark.read.text(\"shakespeare.txt\")\n",
        "from pyspark import SparkContext\n",
        "\n",
        "shake1=df.selectExpr(\"split(wt, ' ') as rows\")\n",
        "model = word2Vec.fit(shake1)\n",
        "result = model.transform(shake1)\n",
        "for row in result.collect()[:5]:\n",
        "\n",
        "    text, vector = row\n",
        "\n",
        "    print(\"Text: [%s] => \\nVector: %s\\n\" % (\", \".join(text), str(vector)))\n"
      ],
      "metadata": {
        "colab": {
          "base_uri": "https://localhost:8080/"
        },
        "id": "jpyzQKnQ-DUL",
        "outputId": "924e23cd-72f4-4d3f-eaa3-30716b92d9f6"
      },
      "execution_count": null,
      "outputs": [
        {
          "output_type": "stream",
          "name": "stdout",
          "text": [
            "Text: [3.57] => \n",
            "Vector: [0.017828842625021935,-0.0929780974984169,-0.09991385787725449]\n",
            "\n",
            "Text: [3.44] => \n",
            "Vector: [-0.09975790977478027,-0.05949379876255989,0.061946868896484375]\n",
            "\n",
            "Text: [4.07] => \n",
            "Vector: [-0.14857681095600128,0.07474938780069351,0.1304960697889328]\n",
            "\n",
            "Text: [3.73] => \n",
            "Vector: [0.08118587732315063,-0.13228558003902435,-0.09911904484033585]\n",
            "\n",
            "Text: [3.78] => \n",
            "Vector: [0.11869943141937256,0.02212534286081791,0.08738982677459717]\n",
            "\n"
          ]
        }
      ]
    },
    {
      "cell_type": "code",
      "source": [
        "!pip install sparknlp"
      ],
      "metadata": {
        "colab": {
          "base_uri": "https://localhost:8080/"
        },
        "id": "y_DS-VxjChd0",
        "outputId": "ce91a9d1-9332-43d9-da31-7f3349083438"
      },
      "execution_count": null,
      "outputs": [
        {
          "output_type": "stream",
          "name": "stdout",
          "text": [
            "Looking in indexes: https://pypi.org/simple, https://us-python.pkg.dev/colab-wheels/public/simple/\n",
            "Collecting sparknlp\n",
            "  Downloading sparknlp-1.0.0-py3-none-any.whl (1.4 kB)\n",
            "Collecting spark-nlp\n",
            "  Downloading spark_nlp-4.3.2-py2.py3-none-any.whl (473 kB)\n",
            "\u001b[2K     \u001b[90m━━━━━━━━━━━━━━━━━━━━━━━━━━━━━━━━━━━━━━━\u001b[0m \u001b[32m473.2/473.2 KB\u001b[0m \u001b[31m9.0 MB/s\u001b[0m eta \u001b[36m0:00:00\u001b[0m\n",
            "\u001b[?25hRequirement already satisfied: numpy in /usr/local/lib/python3.9/dist-packages (from sparknlp) (1.22.4)\n",
            "Installing collected packages: spark-nlp, sparknlp\n",
            "Successfully installed spark-nlp-4.3.2 sparknlp-1.0.0\n"
          ]
        }
      ]
    },
    {
      "cell_type": "code",
      "source": [
        "#7\n",
        "\n",
        "import csv\n",
        "import numpy as np\n",
        "import pandas as pd\n",
        "import matplotlib.pyplot as plt\n",
        "\n",
        "import sparknlp\n",
        "from sparknlp.annotator import *\n",
        "from sparknlp.common import *\n",
        "from sparknlp.base import *\n",
        "\n",
        "from pyspark.ml import Pipeline\n",
        "\n",
        "from sklearn.preprocessing import MultiLabelBinarizer\n",
        "from sklearn.metrics import classification_report\n",
        "from sklearn.metrics import f1_score\n",
        "from sklearn.metrics import roc_auc_score"
      ],
      "metadata": {
        "id": "JrbezoDX-QNi"
      },
      "execution_count": null,
      "outputs": []
    },
    {
      "cell_type": "code",
      "source": [
        "class_map = {\n",
        "    0: \"optimistic\",\n",
        "    1: \"thankful\",\n",
        "    2: \"empathetic\",\n",
        "    3: \"pessimistic\",\n",
        "    4: \"anxious\",\n",
        "    5: \"sad\",\n",
        "    6: \"annoyed\",\n",
        "    7: \"denial\",\n",
        "    8: \"surprise\",\n",
        "    9: \"official_report\",\n",
        "    10: \"joking\"\n",
        "}\n"
      ],
      "metadata": {
        "id": "OnCCXlb_-X1G"
      },
      "execution_count": null,
      "outputs": []
    },
    {
      "cell_type": "code",
      "source": [
        "inv_class_map = {\n",
        "    \"optimistic\": 0,\n",
        "    \"thankful\": 1,\n",
        "    \"empathetic\": 2,\n",
        "    \"pessimistic\": 3,\n",
        "    \"anxious\": 4,\n",
        "    \"sad\": 5,\n",
        "    \"annoyed\": 6,\n",
        "    \"denial\": 7,\n",
        "    \"surprise\": 8,\n",
        "    \"official_report\": 9,\n",
        "    \"joking\": 10\n",
        "}"
      ],
      "metadata": {
        "id": "s1J7kzW3-Zxl"
      },
      "execution_count": null,
      "outputs": []
    },
    {
      "cell_type": "code",
      "source": [
        "records = []\n",
        "with open('training.txt') as csv_file:\n",
        "    csv_reader = csv.reader(csv_file, delimiter=',')\n",
        "    line_count = 0\n",
        "    for row in csv_reader:\n",
        "        if line_count == 0:\n",
        "            print(f'Column names are {\", \".join(row)}')\n",
        "            line_count += 1\n",
        "        else:\n",
        "            current_classes = []\n",
        "            classes = list(map(int, row[2].split(\" \")))\n",
        "            for i in range(0, 11):\n",
        "                if i in classes:\n",
        "                    current_classes.append(class_map[i])\n",
        "\n",
        "            records.append((row[0], row[1], current_classes))\n",
        "            line_count += 1\n",
        "\n",
        "    print(f'Processed {line_count} lines.')\n",
        "\n",
        "df = pd.DataFrame.from_records(records, columns=[\"id\", \"text\", \"labels\"])"
      ],
      "metadata": {
        "colab": {
          "base_uri": "https://localhost:8080/"
        },
        "id": "SP7ljuhQ-bmU",
        "outputId": "2c1073ea-b89e-42f0-914b-1a2735b64848"
      },
      "execution_count": null,
      "outputs": [
        {
          "output_type": "stream",
          "name": "stdout",
          "text": [
            "Column names are ID, Tweet, Labels\n",
            "Processed 5001 lines.\n"
          ]
        }
      ]
    },
    {
      "cell_type": "code",
      "source": [
        "df"
      ],
      "metadata": {
        "colab": {
          "base_uri": "https://localhost:8080/",
          "height": 424
        },
        "id": "lsLhSbK9-dNE",
        "outputId": "c24f86f2-d360-4c94-b8a5-bba77002ac2a"
      },
      "execution_count": null,
      "outputs": [
        {
          "output_type": "execute_result",
          "data": {
            "text/plain": [
              "        id                                               text  \\\n",
              "0        1  NO JOKE I WILL HOP ON A PLANE RN! (Well after ...   \n",
              "1        2  BanMediaHouse whose is responsible for spreadi...   \n",
              "2        3  Im waiting for someone to say to me that all t...   \n",
              "3        4  He is a liar. Proven day night. Time again. Li...   \n",
              "4        5  NEW: U.S. CoronaVirus death toll reaches 4,000...   \n",
              "...    ...                                                ...   \n",
              "4995  4996  Life Insurance? I wonder if policies are payin...   \n",
              "4996  4997  My cousin passed away from the corona virus to...   \n",
              "4997  4998  I guess Mother Nature really hates us. Yellows...   \n",
              "4998  4999  So question for the day that isnt related to c...   \n",
              "4999  5000  Dear corona, If you cancel my fucking church c...   \n",
              "\n",
              "                                           labels  \n",
              "0                            [optimistic, joking]  \n",
              "1                                       [annoyed]  \n",
              "2                          [pessimistic, anxious]  \n",
              "3                                       [annoyed]  \n",
              "4                                      [surprise]  \n",
              "...                                           ...  \n",
              "4995                       [anxious, sad, denial]  \n",
              "4996                               [anxious, sad]  \n",
              "4997  [pessimistic, sad, official_report, joking]  \n",
              "4998                    [official_report, joking]  \n",
              "4999                            [annoyed, joking]  \n",
              "\n",
              "[5000 rows x 3 columns]"
            ],
            "text/html": [
              "\n",
              "  <div id=\"df-1c3ea157-c978-49a0-bd73-33c3625225c2\">\n",
              "    <div class=\"colab-df-container\">\n",
              "      <div>\n",
              "<style scoped>\n",
              "    .dataframe tbody tr th:only-of-type {\n",
              "        vertical-align: middle;\n",
              "    }\n",
              "\n",
              "    .dataframe tbody tr th {\n",
              "        vertical-align: top;\n",
              "    }\n",
              "\n",
              "    .dataframe thead th {\n",
              "        text-align: right;\n",
              "    }\n",
              "</style>\n",
              "<table border=\"1\" class=\"dataframe\">\n",
              "  <thead>\n",
              "    <tr style=\"text-align: right;\">\n",
              "      <th></th>\n",
              "      <th>id</th>\n",
              "      <th>text</th>\n",
              "      <th>labels</th>\n",
              "    </tr>\n",
              "  </thead>\n",
              "  <tbody>\n",
              "    <tr>\n",
              "      <th>0</th>\n",
              "      <td>1</td>\n",
              "      <td>NO JOKE I WILL HOP ON A PLANE RN! (Well after ...</td>\n",
              "      <td>[optimistic, joking]</td>\n",
              "    </tr>\n",
              "    <tr>\n",
              "      <th>1</th>\n",
              "      <td>2</td>\n",
              "      <td>BanMediaHouse whose is responsible for spreadi...</td>\n",
              "      <td>[annoyed]</td>\n",
              "    </tr>\n",
              "    <tr>\n",
              "      <th>2</th>\n",
              "      <td>3</td>\n",
              "      <td>Im waiting for someone to say to me that all t...</td>\n",
              "      <td>[pessimistic, anxious]</td>\n",
              "    </tr>\n",
              "    <tr>\n",
              "      <th>3</th>\n",
              "      <td>4</td>\n",
              "      <td>He is a liar. Proven day night. Time again. Li...</td>\n",
              "      <td>[annoyed]</td>\n",
              "    </tr>\n",
              "    <tr>\n",
              "      <th>4</th>\n",
              "      <td>5</td>\n",
              "      <td>NEW: U.S. CoronaVirus death toll reaches 4,000...</td>\n",
              "      <td>[surprise]</td>\n",
              "    </tr>\n",
              "    <tr>\n",
              "      <th>...</th>\n",
              "      <td>...</td>\n",
              "      <td>...</td>\n",
              "      <td>...</td>\n",
              "    </tr>\n",
              "    <tr>\n",
              "      <th>4995</th>\n",
              "      <td>4996</td>\n",
              "      <td>Life Insurance? I wonder if policies are payin...</td>\n",
              "      <td>[anxious, sad, denial]</td>\n",
              "    </tr>\n",
              "    <tr>\n",
              "      <th>4996</th>\n",
              "      <td>4997</td>\n",
              "      <td>My cousin passed away from the corona virus to...</td>\n",
              "      <td>[anxious, sad]</td>\n",
              "    </tr>\n",
              "    <tr>\n",
              "      <th>4997</th>\n",
              "      <td>4998</td>\n",
              "      <td>I guess Mother Nature really hates us. Yellows...</td>\n",
              "      <td>[pessimistic, sad, official_report, joking]</td>\n",
              "    </tr>\n",
              "    <tr>\n",
              "      <th>4998</th>\n",
              "      <td>4999</td>\n",
              "      <td>So question for the day that isnt related to c...</td>\n",
              "      <td>[official_report, joking]</td>\n",
              "    </tr>\n",
              "    <tr>\n",
              "      <th>4999</th>\n",
              "      <td>5000</td>\n",
              "      <td>Dear corona, If you cancel my fucking church c...</td>\n",
              "      <td>[annoyed, joking]</td>\n",
              "    </tr>\n",
              "  </tbody>\n",
              "</table>\n",
              "<p>5000 rows × 3 columns</p>\n",
              "</div>\n",
              "      <button class=\"colab-df-convert\" onclick=\"convertToInteractive('df-1c3ea157-c978-49a0-bd73-33c3625225c2')\"\n",
              "              title=\"Convert this dataframe to an interactive table.\"\n",
              "              style=\"display:none;\">\n",
              "        \n",
              "  <svg xmlns=\"http://www.w3.org/2000/svg\" height=\"24px\"viewBox=\"0 0 24 24\"\n",
              "       width=\"24px\">\n",
              "    <path d=\"M0 0h24v24H0V0z\" fill=\"none\"/>\n",
              "    <path d=\"M18.56 5.44l.94 2.06.94-2.06 2.06-.94-2.06-.94-.94-2.06-.94 2.06-2.06.94zm-11 1L8.5 8.5l.94-2.06 2.06-.94-2.06-.94L8.5 2.5l-.94 2.06-2.06.94zm10 10l.94 2.06.94-2.06 2.06-.94-2.06-.94-.94-2.06-.94 2.06-2.06.94z\"/><path d=\"M17.41 7.96l-1.37-1.37c-.4-.4-.92-.59-1.43-.59-.52 0-1.04.2-1.43.59L10.3 9.45l-7.72 7.72c-.78.78-.78 2.05 0 2.83L4 21.41c.39.39.9.59 1.41.59.51 0 1.02-.2 1.41-.59l7.78-7.78 2.81-2.81c.8-.78.8-2.07 0-2.86zM5.41 20L4 18.59l7.72-7.72 1.47 1.35L5.41 20z\"/>\n",
              "  </svg>\n",
              "      </button>\n",
              "      \n",
              "  <style>\n",
              "    .colab-df-container {\n",
              "      display:flex;\n",
              "      flex-wrap:wrap;\n",
              "      gap: 12px;\n",
              "    }\n",
              "\n",
              "    .colab-df-convert {\n",
              "      background-color: #E8F0FE;\n",
              "      border: none;\n",
              "      border-radius: 50%;\n",
              "      cursor: pointer;\n",
              "      display: none;\n",
              "      fill: #1967D2;\n",
              "      height: 32px;\n",
              "      padding: 0 0 0 0;\n",
              "      width: 32px;\n",
              "    }\n",
              "\n",
              "    .colab-df-convert:hover {\n",
              "      background-color: #E2EBFA;\n",
              "      box-shadow: 0px 1px 2px rgba(60, 64, 67, 0.3), 0px 1px 3px 1px rgba(60, 64, 67, 0.15);\n",
              "      fill: #174EA6;\n",
              "    }\n",
              "\n",
              "    [theme=dark] .colab-df-convert {\n",
              "      background-color: #3B4455;\n",
              "      fill: #D2E3FC;\n",
              "    }\n",
              "\n",
              "    [theme=dark] .colab-df-convert:hover {\n",
              "      background-color: #434B5C;\n",
              "      box-shadow: 0px 1px 3px 1px rgba(0, 0, 0, 0.15);\n",
              "      filter: drop-shadow(0px 1px 2px rgba(0, 0, 0, 0.3));\n",
              "      fill: #FFFFFF;\n",
              "    }\n",
              "  </style>\n",
              "\n",
              "      <script>\n",
              "        const buttonEl =\n",
              "          document.querySelector('#df-1c3ea157-c978-49a0-bd73-33c3625225c2 button.colab-df-convert');\n",
              "        buttonEl.style.display =\n",
              "          google.colab.kernel.accessAllowed ? 'block' : 'none';\n",
              "\n",
              "        async function convertToInteractive(key) {\n",
              "          const element = document.querySelector('#df-1c3ea157-c978-49a0-bd73-33c3625225c2');\n",
              "          const dataTable =\n",
              "            await google.colab.kernel.invokeFunction('convertToInteractive',\n",
              "                                                     [key], {});\n",
              "          if (!dataTable) return;\n",
              "\n",
              "          const docLinkHtml = 'Like what you see? Visit the ' +\n",
              "            '<a target=\"_blank\" href=https://colab.research.google.com/notebooks/data_table.ipynb>data table notebook</a>'\n",
              "            + ' to learn more about interactive tables.';\n",
              "          element.innerHTML = '';\n",
              "          dataTable['output_type'] = 'display_data';\n",
              "          await google.colab.output.renderOutput(dataTable, element);\n",
              "          const docLink = document.createElement('div');\n",
              "          docLink.innerHTML = docLinkHtml;\n",
              "          element.appendChild(docLink);\n",
              "        }\n",
              "      </script>\n",
              "    </div>\n",
              "  </div>\n",
              "  "
            ]
          },
          "metadata": {},
          "execution_count": 134
        }
      ]
    },
    {
      "cell_type": "code",
      "source": [
        "RANDOM_SEED = 42\n",
        "CLASSIFIER_THRESHOLD = 0.4\n",
        "\n",
        "np.random.seed(RANDOM_SEED)\n",
        "spark = sparknlp.start(gpu=False)\n",
        "\n",
        "trainDataset, testDataset = spark.createDataFrame(df).randomSplit([0.9, 0.1], seed=RANDOM_SEED)"
      ],
      "metadata": {
        "colab": {
          "base_uri": "https://localhost:8080/"
        },
        "id": "-uJ6AffM-fTc",
        "outputId": "921fa6e9-20b2-4a08-9216-25341f1af42e"
      },
      "execution_count": null,
      "outputs": [
        {
          "output_type": "stream",
          "name": "stdout",
          "text": [
            "Warning::Spark Session already created, some configs may not take.\n"
          ]
        }
      ]
    },
    {
      "cell_type": "code",
      "source": [
        "trainDataset.show(5)"
      ],
      "metadata": {
        "colab": {
          "base_uri": "https://localhost:8080/"
        },
        "id": "mxyR6X40-i5m",
        "outputId": "e462d286-42cf-4d96-8e36-36409d535a0a"
      },
      "execution_count": null,
      "outputs": [
        {
          "output_type": "stream",
          "name": "stdout",
          "text": [
            "+----+--------------------+--------------------+\n",
            "|  id|                text|              labels|\n",
            "+----+--------------------+--------------------+\n",
            "|   1|NO JOKE I WILL HO...|[optimistic, joking]|\n",
            "|  10|My mental health ...|            [joking]|\n",
            "| 100|I blame that beei...|   [annoyed, joking]|\n",
            "|1000|In this new day a...|            [joking]|\n",
            "|1001|i did not sign up...|  [pessimistic, sad]|\n",
            "+----+--------------------+--------------------+\n",
            "only showing top 5 rows\n",
            "\n"
          ]
        }
      ]
    },
    {
      "cell_type": "code",
      "source": [
        "import  os\n",
        "from pyspark import SparkConf\n",
        "\n",
        "spark_config = SparkConf().getAll()\n",
        "for conf in spark_config:\n",
        "    print(conf)"
      ],
      "metadata": {
        "colab": {
          "base_uri": "https://localhost:8080/"
        },
        "id": "sZ2VF7ll-jeW",
        "outputId": "6615a561-880c-4e8f-86b1-f47261af0205"
      },
      "execution_count": null,
      "outputs": [
        {
          "output_type": "stream",
          "name": "stdout",
          "text": [
            "('spark.app.submitTime', '1679271509083')\n",
            "('spark.app.name', 'KNN_imputation')\n",
            "('spark.master', 'local[*]')\n",
            "('spark.submit.pyFiles', '')\n",
            "('spark.submit.deployMode', 'client')\n",
            "('spark.ui.showConsoleProgress', 'true')\n"
          ]
        }
      ]
    },
    {
      "cell_type": "code",
      "source": [
        "# Install java\n",
        "!apt-get install openjdk-8-jdk-headless -qq > /dev/null\n",
        "\n",
        "from pyspark.sql import SparkSession\n",
        "spark = SparkSession.builder.appName(\"MyApp\").getOrCreate()\n",
        "java_package = spark.sparkContext._gateway.jvm.com.example\n"
      ],
      "metadata": {
        "id": "vkWd8ifu-mL_"
      },
      "execution_count": null,
      "outputs": []
    },
    {
      "cell_type": "code",
      "source": [],
      "metadata": {
        "colab": {
          "base_uri": "https://localhost:8080/",
          "height": 345
        },
        "id": "S-PQy-NY-qJG",
        "outputId": "74d1b3ea-fda0-425f-b152-94fbb5e23a4c"
      },
      "execution_count": null,
      "outputs": [
        {
          "output_type": "error",
          "ename": "TypeError",
          "evalue": "ignored",
          "traceback": [
            "\u001b[0;31m---------------------------------------------------------------------------\u001b[0m",
            "\u001b[0;31mTypeError\u001b[0m                                 Traceback (most recent call last)",
            "\u001b[0;32m<ipython-input-139-cb6be9d28205>\u001b[0m in \u001b[0;36m<module>\u001b[0;34m\u001b[0m\n\u001b[0;32m----> 1\u001b[0;31m \u001b[0mdocument\u001b[0m \u001b[0;34m=\u001b[0m \u001b[0mDocumentAssembler\u001b[0m\u001b[0;34m(\u001b[0m\u001b[0;34m)\u001b[0m\u001b[0;31m\\\u001b[0m\u001b[0;34m\u001b[0m\u001b[0;34m\u001b[0m\u001b[0m\n\u001b[0m\u001b[1;32m      2\u001b[0m     \u001b[0;34m.\u001b[0m\u001b[0msetInputCol\u001b[0m\u001b[0;34m(\u001b[0m\u001b[0;34m\"text\"\u001b[0m\u001b[0;34m)\u001b[0m\u001b[0;31m\\\u001b[0m\u001b[0;34m\u001b[0m\u001b[0;34m\u001b[0m\u001b[0m\n\u001b[1;32m      3\u001b[0m     \u001b[0;34m.\u001b[0m\u001b[0msetOutputCol\u001b[0m\u001b[0;34m(\u001b[0m\u001b[0;34m\"document\"\u001b[0m\u001b[0;34m)\u001b[0m\u001b[0;34m\u001b[0m\u001b[0;34m\u001b[0m\u001b[0m\n",
            "\u001b[0;32m/usr/local/lib/python3.9/dist-packages/pyspark/__init__.py\u001b[0m in \u001b[0;36mwrapper\u001b[0;34m(self, *args, **kwargs)\u001b[0m\n\u001b[1;32m    133\u001b[0m             \u001b[0;32mraise\u001b[0m \u001b[0mTypeError\u001b[0m\u001b[0;34m(\u001b[0m\u001b[0;34m\"Method %s forces keyword arguments.\"\u001b[0m \u001b[0;34m%\u001b[0m \u001b[0mfunc\u001b[0m\u001b[0;34m.\u001b[0m\u001b[0m__name__\u001b[0m\u001b[0;34m)\u001b[0m\u001b[0;34m\u001b[0m\u001b[0;34m\u001b[0m\u001b[0m\n\u001b[1;32m    134\u001b[0m         \u001b[0mself\u001b[0m\u001b[0;34m.\u001b[0m\u001b[0m_input_kwargs\u001b[0m \u001b[0;34m=\u001b[0m \u001b[0mkwargs\u001b[0m\u001b[0;34m\u001b[0m\u001b[0;34m\u001b[0m\u001b[0m\n\u001b[0;32m--> 135\u001b[0;31m         \u001b[0;32mreturn\u001b[0m \u001b[0mfunc\u001b[0m\u001b[0;34m(\u001b[0m\u001b[0mself\u001b[0m\u001b[0;34m,\u001b[0m \u001b[0;34m**\u001b[0m\u001b[0mkwargs\u001b[0m\u001b[0;34m)\u001b[0m\u001b[0;34m\u001b[0m\u001b[0;34m\u001b[0m\u001b[0m\n\u001b[0m\u001b[1;32m    136\u001b[0m \u001b[0;34m\u001b[0m\u001b[0m\n\u001b[1;32m    137\u001b[0m     \u001b[0;32mreturn\u001b[0m \u001b[0mcast\u001b[0m\u001b[0;34m(\u001b[0m\u001b[0mF\u001b[0m\u001b[0;34m,\u001b[0m \u001b[0mwrapper\u001b[0m\u001b[0;34m)\u001b[0m\u001b[0;34m\u001b[0m\u001b[0;34m\u001b[0m\u001b[0m\n",
            "\u001b[0;32m/usr/local/lib/python3.9/dist-packages/sparknlp/base/document_assembler.py\u001b[0m in \u001b[0;36m__init__\u001b[0;34m(self)\u001b[0m\n\u001b[1;32m     94\u001b[0m     \u001b[0;34m@\u001b[0m\u001b[0mkeyword_only\u001b[0m\u001b[0;34m\u001b[0m\u001b[0;34m\u001b[0m\u001b[0m\n\u001b[1;32m     95\u001b[0m     \u001b[0;32mdef\u001b[0m \u001b[0m__init__\u001b[0m\u001b[0;34m(\u001b[0m\u001b[0mself\u001b[0m\u001b[0;34m)\u001b[0m\u001b[0;34m:\u001b[0m\u001b[0;34m\u001b[0m\u001b[0;34m\u001b[0m\u001b[0m\n\u001b[0;32m---> 96\u001b[0;31m         \u001b[0msuper\u001b[0m\u001b[0;34m(\u001b[0m\u001b[0mDocumentAssembler\u001b[0m\u001b[0;34m,\u001b[0m \u001b[0mself\u001b[0m\u001b[0;34m)\u001b[0m\u001b[0;34m.\u001b[0m\u001b[0m__init__\u001b[0m\u001b[0;34m(\u001b[0m\u001b[0mclassname\u001b[0m\u001b[0;34m=\u001b[0m\u001b[0;34m\"com.johnsnowlabs.nlp.DocumentAssembler\"\u001b[0m\u001b[0;34m)\u001b[0m\u001b[0;34m\u001b[0m\u001b[0;34m\u001b[0m\u001b[0m\n\u001b[0m\u001b[1;32m     97\u001b[0m         \u001b[0mself\u001b[0m\u001b[0;34m.\u001b[0m\u001b[0m_setDefault\u001b[0m\u001b[0;34m(\u001b[0m\u001b[0moutputCol\u001b[0m\u001b[0;34m=\u001b[0m\u001b[0;34m\"document\"\u001b[0m\u001b[0;34m,\u001b[0m \u001b[0mcleanupMode\u001b[0m\u001b[0;34m=\u001b[0m\u001b[0;34m'disabled'\u001b[0m\u001b[0;34m)\u001b[0m\u001b[0;34m\u001b[0m\u001b[0;34m\u001b[0m\u001b[0m\n\u001b[1;32m     98\u001b[0m \u001b[0;34m\u001b[0m\u001b[0m\n",
            "\u001b[0;32m/usr/local/lib/python3.9/dist-packages/pyspark/__init__.py\u001b[0m in \u001b[0;36mwrapper\u001b[0;34m(self, *args, **kwargs)\u001b[0m\n\u001b[1;32m    133\u001b[0m             \u001b[0;32mraise\u001b[0m \u001b[0mTypeError\u001b[0m\u001b[0;34m(\u001b[0m\u001b[0;34m\"Method %s forces keyword arguments.\"\u001b[0m \u001b[0;34m%\u001b[0m \u001b[0mfunc\u001b[0m\u001b[0;34m.\u001b[0m\u001b[0m__name__\u001b[0m\u001b[0;34m)\u001b[0m\u001b[0;34m\u001b[0m\u001b[0;34m\u001b[0m\u001b[0m\n\u001b[1;32m    134\u001b[0m         \u001b[0mself\u001b[0m\u001b[0;34m.\u001b[0m\u001b[0m_input_kwargs\u001b[0m \u001b[0;34m=\u001b[0m \u001b[0mkwargs\u001b[0m\u001b[0;34m\u001b[0m\u001b[0;34m\u001b[0m\u001b[0m\n\u001b[0;32m--> 135\u001b[0;31m         \u001b[0;32mreturn\u001b[0m \u001b[0mfunc\u001b[0m\u001b[0;34m(\u001b[0m\u001b[0mself\u001b[0m\u001b[0;34m,\u001b[0m \u001b[0;34m**\u001b[0m\u001b[0mkwargs\u001b[0m\u001b[0;34m)\u001b[0m\u001b[0;34m\u001b[0m\u001b[0;34m\u001b[0m\u001b[0m\n\u001b[0m\u001b[1;32m    136\u001b[0m \u001b[0;34m\u001b[0m\u001b[0m\n\u001b[1;32m    137\u001b[0m     \u001b[0;32mreturn\u001b[0m \u001b[0mcast\u001b[0m\u001b[0;34m(\u001b[0m\u001b[0mF\u001b[0m\u001b[0;34m,\u001b[0m \u001b[0mwrapper\u001b[0m\u001b[0;34m)\u001b[0m\u001b[0;34m\u001b[0m\u001b[0;34m\u001b[0m\u001b[0m\n",
            "\u001b[0;32m/usr/local/lib/python3.9/dist-packages/sparknlp/internal/annotator_transformer.py\u001b[0m in \u001b[0;36m__init__\u001b[0;34m(self, classname)\u001b[0m\n\u001b[1;32m     34\u001b[0m         \u001b[0mself\u001b[0m\u001b[0;34m.\u001b[0m\u001b[0msetParams\u001b[0m\u001b[0;34m(\u001b[0m\u001b[0;34m**\u001b[0m\u001b[0mkwargs\u001b[0m\u001b[0;34m)\u001b[0m\u001b[0;34m\u001b[0m\u001b[0;34m\u001b[0m\u001b[0m\n\u001b[1;32m     35\u001b[0m         \u001b[0mself\u001b[0m\u001b[0;34m.\u001b[0m\u001b[0m__class__\u001b[0m\u001b[0;34m.\u001b[0m\u001b[0m_java_class_name\u001b[0m \u001b[0;34m=\u001b[0m \u001b[0mclassname\u001b[0m\u001b[0;34m\u001b[0m\u001b[0;34m\u001b[0m\u001b[0m\n\u001b[0;32m---> 36\u001b[0;31m         \u001b[0mself\u001b[0m\u001b[0;34m.\u001b[0m\u001b[0m_java_obj\u001b[0m \u001b[0;34m=\u001b[0m \u001b[0mself\u001b[0m\u001b[0;34m.\u001b[0m\u001b[0m_new_java_obj\u001b[0m\u001b[0;34m(\u001b[0m\u001b[0mclassname\u001b[0m\u001b[0;34m,\u001b[0m \u001b[0mself\u001b[0m\u001b[0;34m.\u001b[0m\u001b[0muid\u001b[0m\u001b[0;34m)\u001b[0m\u001b[0;34m\u001b[0m\u001b[0;34m\u001b[0m\u001b[0m\n\u001b[0m\u001b[1;32m     37\u001b[0m \u001b[0;34m\u001b[0m\u001b[0m\n",
            "\u001b[0;32m/usr/local/lib/python3.9/dist-packages/pyspark/ml/wrapper.py\u001b[0m in \u001b[0;36m_new_java_obj\u001b[0;34m(java_class, *args)\u001b[0m\n\u001b[1;32m     84\u001b[0m             \u001b[0mjava_obj\u001b[0m \u001b[0;34m=\u001b[0m \u001b[0mgetattr\u001b[0m\u001b[0;34m(\u001b[0m\u001b[0mjava_obj\u001b[0m\u001b[0;34m,\u001b[0m \u001b[0mname\u001b[0m\u001b[0;34m)\u001b[0m\u001b[0;34m\u001b[0m\u001b[0;34m\u001b[0m\u001b[0m\n\u001b[1;32m     85\u001b[0m         \u001b[0mjava_args\u001b[0m \u001b[0;34m=\u001b[0m \u001b[0;34m[\u001b[0m\u001b[0m_py2java\u001b[0m\u001b[0;34m(\u001b[0m\u001b[0msc\u001b[0m\u001b[0;34m,\u001b[0m \u001b[0marg\u001b[0m\u001b[0;34m)\u001b[0m \u001b[0;32mfor\u001b[0m \u001b[0marg\u001b[0m \u001b[0;32min\u001b[0m \u001b[0margs\u001b[0m\u001b[0;34m]\u001b[0m\u001b[0;34m\u001b[0m\u001b[0;34m\u001b[0m\u001b[0m\n\u001b[0;32m---> 86\u001b[0;31m         \u001b[0;32mreturn\u001b[0m \u001b[0mjava_obj\u001b[0m\u001b[0;34m(\u001b[0m\u001b[0;34m*\u001b[0m\u001b[0mjava_args\u001b[0m\u001b[0;34m)\u001b[0m\u001b[0;34m\u001b[0m\u001b[0;34m\u001b[0m\u001b[0m\n\u001b[0m\u001b[1;32m     87\u001b[0m \u001b[0;34m\u001b[0m\u001b[0m\n\u001b[1;32m     88\u001b[0m     \u001b[0;34m@\u001b[0m\u001b[0mstaticmethod\u001b[0m\u001b[0;34m\u001b[0m\u001b[0;34m\u001b[0m\u001b[0m\n",
            "\u001b[0;31mTypeError\u001b[0m: 'JavaPackage' object is not callable"
          ]
        }
      ]
    },
    {
      "cell_type": "code",
      "source": [],
      "metadata": {
        "id": "g-unv_Z4-vDr"
      },
      "execution_count": null,
      "outputs": []
    },
    {
      "cell_type": "code",
      "source": [],
      "metadata": {
        "id": "2AByFX0q-xT-"
      },
      "execution_count": null,
      "outputs": []
    }
  ]
}